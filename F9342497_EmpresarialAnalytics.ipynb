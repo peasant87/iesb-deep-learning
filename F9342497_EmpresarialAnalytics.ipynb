{
  "nbformat": 4,
  "nbformat_minor": 0,
  "metadata": {
    "colab": {
      "name": "F9342497_EmpresarialAnalytics.ipynb",
      "version": "0.3.2",
      "provenance": [],
      "collapsed_sections": [],
      "include_colab_link": true
    },
    "kernelspec": {
      "name": "python3",
      "display_name": "Python 3"
    },
    "accelerator": "GPU"
  },
  "cells": [
    {
      "cell_type": "markdown",
      "metadata": {
        "id": "view-in-github",
        "colab_type": "text"
      },
      "source": [
        "<a href=\"https://colab.research.google.com/github/peasant87/iesb-deep-learning/blob/master/F9342497_EmpresarialAnalytics.ipynb\" target=\"_parent\"><img src=\"https://colab.research.google.com/assets/colab-badge.svg\" alt=\"Open In Colab\"/></a>"
      ]
    },
    {
      "cell_type": "markdown",
      "metadata": {
        "id": "9LjNaMrmUgJF",
        "colab_type": "text"
      },
      "source": [
        "# Empresarial Analytics\n"
      ]
    },
    {
      "cell_type": "markdown",
      "metadata": {
        "id": "sK1v_2K5UlZJ",
        "colab_type": "text"
      },
      "source": [
        "## Questão 1"
      ]
    },
    {
      "cell_type": "markdown",
      "metadata": {
        "id": "UgOm2L6PQMyQ",
        "colab_type": "text"
      },
      "source": [
        "\n",
        "1. **Estratégia de atuação integrada que leve o projeto a cumprir o\n",
        "objetivo citado (maturidade analítica).**\n",
        "\n",
        "2. **Quais tipos de dados devem alimentar o data lake para subsidiar\n",
        "modelos essenciais para a BB Seguros.**\n",
        "\n",
        "3. **Esboce como você organizaria esses dados e quais recursos do\n",
        "Hadoop e do Hive utilizaria para garantir: continuidade de negócios,\n",
        "alto desempenho em consultas, qualidade de dados e fácil\n",
        "administração.**\n",
        "\n",
        "\n",
        "---\n",
        "\n"
      ]
    },
    {
      "cell_type": "markdown",
      "metadata": {
        "id": "mYc1XY5eQOjZ",
        "colab_type": "text"
      },
      "source": [
        "Considerando que as três coligadas compartilham um Data Lake com infraestrutura Hadoop, pode-se inferir que já avançaram nos estágios iniciais de maturidade analítica caminhando em direção às estratégias de automação e inteligência artificial, com sistemas de suporte à decisão e análises preditivas.\n",
        "\n",
        "Para que este objetivo, maturidade analítica, possa seguir conforme o planejado é necessário o desenvolvimento de uma cultura analítica na empresa, readequando os níveis estratégico, tático e operacional. \n",
        "\n",
        "O primeiro deve desenvolver a capacidade de definir os objetivos, os problemas a serem explorados pelo motor analítico da corporação. O segundo, deve trabalhar em conjunto com as equipes de análise, uma vez que as regras e insights negociais são provenientes da observação e retroalimentação dos sistemas analíticos. A capacidade de ter uma grande quantidade de dados e informações não traz valor em si, o valor está no processo de transformação e na forma como é entregue ao cliente, caso contrário Wikipédia dominaria a internet, não Google/Facebook. Por fim, deve-se ter uma equipe integrada de suporte tecnológico trabalhando em conjunto com a equipe de análise de dados, estatísticos, matemáticos etc. \n",
        "\n",
        "Mais do que os dados que devem ser alimentados no data lake, deve-se ter cuidado com o acumulo desnecessário de dados, transformando o data lake em um data swamp. Esta sobrecarga de dados afoga os métodos de análise impedindo ou atrasando a gearção de insights e modelos.\n",
        "\n",
        "Como a BBSeguros está sujeita a diferentes tipos de risco de mercado e negócio, por exemplo, o data lake deve consistir de dados internos da própria empresa e dados que possam gerar valor e/ou tenham utilização relevante, como dados de mercado, tendências comerciais e econômicas. \n",
        "\n",
        "O data lake deve ter suporte a dados capazes de gerar insights sobre risco de fraude ao seguro, estabelecendo modelos capazes de predizer, de certa forma, estes eventos. Certos indicadores econômicos e sociais também podem ser levados em conta para o estabelecimento de uma política de preço de prêmio mais adequado ao perfil do cliente. O CLV (Customer Lifetime Value), também pode ser calculado a partir dos dados disponíveis.\n",
        "\n",
        "Por fim, outros pontos que podem ser avaliados utilizando-se o data lake: marketing personalizado, segmentação de clientes, ferramentas de recomendação, gerenciamento de risco, predição de sinistros e desembolsos, automatização dos \"eventos de vida\", dos clientes, segmentando ofertas, valores e coberturas de forma personalizada.\n",
        "\n",
        "Anteriormente ao Hadoop e Hive, é necessário estabelecer-se uma política de armazenamento, organizações e utilização do data lake. Deve-se estabelecer, previamente, uma organização e  estruturas mínimas para esta base de dados, com governança sobre o processo de inclusão, facilitando a consulta e manutenção dessa estrutura no futuro. \n",
        "\n",
        "Uma das formas de se realizar esta organização é criando-se zonas dentro do data lake, por exemplo, zona temporária, para dados de curto ciclo de vida (cópias, processamento). Zona de \"estado bruto\", onde dados \"crus\" serão armazenados, encriptados, etc. Zona segura, onde os dados foram avaliados, validados, tem relevância. Por fim, a zona refinada, onde dados manipulados e enriquecidos ficam armazenados.\n",
        "\n",
        "Para uma boa continuidade dos negócios e confiabilidade da base de dados, necessitamos de uma boa política de segurança. Este ponto já é resolvido internamente pelo HDFS, com sua encriptação de ponta-a-ponta e pode ser melhorado utilizando-se o Apache Sentry.\n",
        "\n",
        "Para o alto desempenho em consultas e continuidade dos negócios pode-se utilizar o Zookeeper com Apache Storm, o primeiro responsável alta confiabilidade na coordenação das bases de dados distribuídas, o segundo pela computação distribuída. Ainda na questão das consultas pode-se utilizar o Apache Hive para realização de queries SQL-Like no data lake, bem como outras implementações (HAWQ, HCatalog) e o Apache MRQL, otimizador de queries em sistemas distribuídos, de larga escala.\n",
        "\n",
        "Para manutenção e administração dos dados, como ciclo de vida, pre-processamento, workflow, pode-se utilizar o Apache Falcon. "
      ]
    },
    {
      "cell_type": "markdown",
      "metadata": {
        "id": "2BL6A4p3Urxs",
        "colab_type": "text"
      },
      "source": [
        "## Questão 2"
      ]
    },
    {
      "cell_type": "markdown",
      "metadata": {
        "id": "ImGExuKOyDLu",
        "colab_type": "text"
      },
      "source": [
        "\n",
        "\n",
        "> **Utilize a amostra de dados chamada\n",
        "JUNIOR e demonstre se a ações de 2018 trouxeram incremento na quantidade\n",
        "de aportes e argumente se é viável continuar com esse tipo de campanha para\n",
        "nos próximos 2 anos.**\n",
        "\n",
        "\n",
        "---"
      ]
    },
    {
      "cell_type": "code",
      "metadata": {
        "id": "cr7sJgF6VnHP",
        "colab_type": "code",
        "colab": {}
      },
      "source": [
        "from google.colab import drive\n",
        "import pandas as pd\n",
        "import matplotlib.pyplot as plt\n",
        "import numpy as np\n",
        "import os\n",
        "import seaborn as sns\n",
        "\n",
        "%matplotlib inline"
      ],
      "execution_count": 0,
      "outputs": []
    },
    {
      "cell_type": "markdown",
      "metadata": {
        "id": "JxJhX02-VhPz",
        "colab_type": "text"
      },
      "source": [
        "### Acessar dados no Drive"
      ]
    },
    {
      "cell_type": "code",
      "metadata": {
        "id": "XQVyiEX6VkXt",
        "colab_type": "code",
        "outputId": "62e7400c-7069-48de-fddb-6df534504d46",
        "colab": {
          "base_uri": "https://localhost:8080/",
          "height": 34
        }
      },
      "source": [
        "drive.mount('/content/drive')"
      ],
      "execution_count": 694,
      "outputs": [
        {
          "output_type": "stream",
          "text": [
            "Drive already mounted at /content/drive; to attempt to forcibly remount, call drive.mount(\"/content/drive\", force_remount=True).\n"
          ],
          "name": "stdout"
        }
      ]
    },
    {
      "cell_type": "markdown",
      "metadata": {
        "id": "WZ2qMz7JU48k",
        "colab_type": "text"
      },
      "source": [
        "### Exploração dos Dados"
      ]
    },
    {
      "cell_type": "code",
      "metadata": {
        "id": "SSvk_7oFVAZU",
        "colab_type": "code",
        "outputId": "6f09c3ca-9105-47e3-bd12-50262e57ebc1",
        "colab": {
          "base_uri": "https://localhost:8080/",
          "height": 417
        }
      },
      "source": [
        "docs_path = '/content/drive/My Drive/Colab Notebooks/BB_Seguros/'\n",
        "df = pd.read_csv(docs_path+'JUNIOR.csv', encoding='iso-8859-1',sep=';')\n",
        "df.head()"
      ],
      "execution_count": 695,
      "outputs": [
        {
          "output_type": "execute_result",
          "data": {
            "text/html": [
              "<div>\n",
              "<style scoped>\n",
              "    .dataframe tbody tr th:only-of-type {\n",
              "        vertical-align: middle;\n",
              "    }\n",
              "\n",
              "    .dataframe tbody tr th {\n",
              "        vertical-align: top;\n",
              "    }\n",
              "\n",
              "    .dataframe thead th {\n",
              "        text-align: right;\n",
              "    }\n",
              "</style>\n",
              "<table border=\"1\" class=\"dataframe\">\n",
              "  <thead>\n",
              "    <tr style=\"text-align: right;\">\n",
              "      <th></th>\n",
              "      <th>ID_CLIENTE</th>\n",
              "      <th>IDADE</th>\n",
              "      <th>CEP</th>\n",
              "      <th>REGIAO</th>\n",
              "      <th>uf</th>\n",
              "      <th>municipio</th>\n",
              "      <th>bairro</th>\n",
              "      <th>estado_civil</th>\n",
              "      <th>renda_liquida</th>\n",
              "      <th>PLANO</th>\n",
              "      <th>PERIODICIDADE_CONTRIBUICAO</th>\n",
              "      <th>CONTRIBUICAO</th>\n",
              "      <th>CANAL_VENDA</th>\n",
              "      <th>forma_pgto</th>\n",
              "      <th>QTD_APORTE_ESPO</th>\n",
              "      <th>SOMA_ESPORADICO</th>\n",
              "      <th>MEDIA_ESPORADICO</th>\n",
              "      <th>MAXIMO_ESPORADICO</th>\n",
              "      <th>BENEFICIARIO</th>\n",
              "      <th>IDADE_BENEFICIARIO</th>\n",
              "      <th>SEXO_BENEFICIARIO</th>\n",
              "      <th>APORTE_CAMPANHA</th>\n",
              "      <th>APORTE_SEM_CAMPANHA</th>\n",
              "    </tr>\n",
              "  </thead>\n",
              "  <tbody>\n",
              "    <tr>\n",
              "      <th>0</th>\n",
              "      <td>1</td>\n",
              "      <td>62</td>\n",
              "      <td>86020080</td>\n",
              "      <td>SUL</td>\n",
              "      <td>PR</td>\n",
              "      <td>LONDRINA</td>\n",
              "      <td>CENTRO</td>\n",
              "      <td>Solteiro</td>\n",
              "      <td>12127.93</td>\n",
              "      <td>BRASILPREV JUNIOR ESTILO VGBL</td>\n",
              "      <td>MENSAL</td>\n",
              "      <td>98.31</td>\n",
              "      <td>AGENCIAS BB</td>\n",
              "      <td>Conta Corrente</td>\n",
              "      <td>NaN</td>\n",
              "      <td>NaN</td>\n",
              "      <td>NaN</td>\n",
              "      <td>NaN</td>\n",
              "      <td>1</td>\n",
              "      <td>14</td>\n",
              "      <td>F</td>\n",
              "      <td>NaN</td>\n",
              "      <td>3500.0</td>\n",
              "    </tr>\n",
              "    <tr>\n",
              "      <th>1</th>\n",
              "      <td>2</td>\n",
              "      <td>53</td>\n",
              "      <td>86300000</td>\n",
              "      <td>SUL</td>\n",
              "      <td>PR</td>\n",
              "      <td>CORNELIO PROCOPIO</td>\n",
              "      <td>CENTRO</td>\n",
              "      <td>Casado - Comunhao Parcial</td>\n",
              "      <td>2459.60</td>\n",
              "      <td>BRASILPREV JUNIOR VGBL</td>\n",
              "      <td>MENSAL</td>\n",
              "      <td>60.00</td>\n",
              "      <td>AGENCIAS BB</td>\n",
              "      <td>Conta Corrente</td>\n",
              "      <td>1.0</td>\n",
              "      <td>300.0</td>\n",
              "      <td>300.0</td>\n",
              "      <td>300.0</td>\n",
              "      <td>1</td>\n",
              "      <td>27</td>\n",
              "      <td>F</td>\n",
              "      <td>NaN</td>\n",
              "      <td>NaN</td>\n",
              "    </tr>\n",
              "    <tr>\n",
              "      <th>2</th>\n",
              "      <td>3</td>\n",
              "      <td>66</td>\n",
              "      <td>86050270</td>\n",
              "      <td>SUL</td>\n",
              "      <td>PR</td>\n",
              "      <td>LONDRINA</td>\n",
              "      <td>B SUICA</td>\n",
              "      <td>Casado - Comunhao Universal</td>\n",
              "      <td>7798.01</td>\n",
              "      <td>BRASILPREV JUNIOR VGBL</td>\n",
              "      <td>MENSAL</td>\n",
              "      <td>25.00</td>\n",
              "      <td>AGENCIAS BB</td>\n",
              "      <td>Conta Corrente</td>\n",
              "      <td>NaN</td>\n",
              "      <td>NaN</td>\n",
              "      <td>NaN</td>\n",
              "      <td>NaN</td>\n",
              "      <td>1</td>\n",
              "      <td>9</td>\n",
              "      <td>F</td>\n",
              "      <td>NaN</td>\n",
              "      <td>NaN</td>\n",
              "    </tr>\n",
              "    <tr>\n",
              "      <th>3</th>\n",
              "      <td>4</td>\n",
              "      <td>51</td>\n",
              "      <td>86360000</td>\n",
              "      <td>SUL</td>\n",
              "      <td>PR</td>\n",
              "      <td>BANDEIRANTES</td>\n",
              "      <td>CENTRO</td>\n",
              "      <td>Casado - Comunhao Parcial</td>\n",
              "      <td>9924.59</td>\n",
              "      <td>BRASILPREV JUNIOR PGBL</td>\n",
              "      <td>MENSAL</td>\n",
              "      <td>150.00</td>\n",
              "      <td>AGENCIAS BB</td>\n",
              "      <td>Conta Corrente</td>\n",
              "      <td>NaN</td>\n",
              "      <td>NaN</td>\n",
              "      <td>NaN</td>\n",
              "      <td>NaN</td>\n",
              "      <td>1</td>\n",
              "      <td>14</td>\n",
              "      <td>M</td>\n",
              "      <td>NaN</td>\n",
              "      <td>NaN</td>\n",
              "    </tr>\n",
              "    <tr>\n",
              "      <th>4</th>\n",
              "      <td>5</td>\n",
              "      <td>57</td>\n",
              "      <td>86870000</td>\n",
              "      <td>SUL</td>\n",
              "      <td>PR</td>\n",
              "      <td>IVAIPORA</td>\n",
              "      <td>CENTRO</td>\n",
              "      <td>Casado - Comunhao Parcial</td>\n",
              "      <td>15139.01</td>\n",
              "      <td>BRASILPREV JUNIOR VGBL</td>\n",
              "      <td>OUTRA</td>\n",
              "      <td>750.00</td>\n",
              "      <td>AGENCIAS BB</td>\n",
              "      <td>Boleto</td>\n",
              "      <td>NaN</td>\n",
              "      <td>NaN</td>\n",
              "      <td>NaN</td>\n",
              "      <td>NaN</td>\n",
              "      <td>1</td>\n",
              "      <td>21</td>\n",
              "      <td>M</td>\n",
              "      <td>NaN</td>\n",
              "      <td>NaN</td>\n",
              "    </tr>\n",
              "  </tbody>\n",
              "</table>\n",
              "</div>"
            ],
            "text/plain": [
              "   ID_CLIENTE  IDADE  ...  APORTE_CAMPANHA APORTE_SEM_CAMPANHA\n",
              "0           1     62  ...              NaN              3500.0\n",
              "1           2     53  ...              NaN                 NaN\n",
              "2           3     66  ...              NaN                 NaN\n",
              "3           4     51  ...              NaN                 NaN\n",
              "4           5     57  ...              NaN                 NaN\n",
              "\n",
              "[5 rows x 23 columns]"
            ]
          },
          "metadata": {
            "tags": []
          },
          "execution_count": 695
        }
      ]
    },
    {
      "cell_type": "code",
      "metadata": {
        "id": "SguUuVBQfMY5",
        "colab_type": "code",
        "colab": {}
      },
      "source": [
        "# Limitando colunas utilizadas\n",
        "\n",
        "del df['IDADE']\n",
        "del df['CEP']\n",
        "del df['REGIAO']\n",
        "del df['uf']\n",
        "del df['municipio']\n",
        "del df['bairro']\n",
        "del df['estado_civil']\n",
        "del df['CANAL_VENDA']\n",
        "del df['BENEFICIARIO']\n",
        "del df['IDADE_BENEFICIARIO']\n",
        "del df['SEXO_BENEFICIARIO']"
      ],
      "execution_count": 0,
      "outputs": []
    },
    {
      "cell_type": "code",
      "metadata": {
        "id": "6IvsDT9JddbU",
        "colab_type": "code",
        "outputId": "9f51d0c1-e3dc-41e2-817d-ee8c5e3bd8b9",
        "colab": {
          "base_uri": "https://localhost:8080/",
          "height": 312
        }
      },
      "source": [
        "# Verificando número de amostras e tipos de dados\n",
        "df.info()"
      ],
      "execution_count": 697,
      "outputs": [
        {
          "output_type": "stream",
          "text": [
            "<class 'pandas.core.frame.DataFrame'>\n",
            "RangeIndex: 4000 entries, 0 to 3999\n",
            "Data columns (total 12 columns):\n",
            "ID_CLIENTE                    4000 non-null int64\n",
            "renda_liquida                 3986 non-null float64\n",
            "PLANO                         4000 non-null object\n",
            "PERIODICIDADE_CONTRIBUICAO    4000 non-null object\n",
            "CONTRIBUICAO                  4000 non-null float64\n",
            "forma_pgto                    4000 non-null object\n",
            "QTD_APORTE_ESPO               423 non-null float64\n",
            "SOMA_ESPORADICO               423 non-null float64\n",
            "MEDIA_ESPORADICO              423 non-null float64\n",
            "MAXIMO_ESPORADICO             423 non-null float64\n",
            "APORTE_CAMPANHA               315 non-null float64\n",
            "APORTE_SEM_CAMPANHA           211 non-null float64\n",
            "dtypes: float64(8), int64(1), object(3)\n",
            "memory usage: 375.1+ KB\n"
          ],
          "name": "stdout"
        }
      ]
    },
    {
      "cell_type": "code",
      "metadata": {
        "id": "GQb1uUj5k0gj",
        "colab_type": "code",
        "colab": {}
      },
      "source": [
        "df['APORTE_CAMPANHA'] = df.APORTE_CAMPANHA.fillna(0)\n",
        "df['APORTE_SEM_CAMPANHA'] = df.APORTE_SEM_CAMPANHA.fillna(0)\n",
        "df['QTD_APORTE_ESPO'] = df.QTD_APORTE_ESPO.fillna(0)"
      ],
      "execution_count": 0,
      "outputs": []
    },
    {
      "cell_type": "code",
      "metadata": {
        "id": "8sTgr4vzanNm",
        "colab_type": "code",
        "outputId": "442adee0-21a3-4d3f-cc7d-89edc50e67fe",
        "colab": {
          "base_uri": "https://localhost:8080/",
          "height": 286
        }
      },
      "source": [
        "# Verificando a distribuição dos dados da coluna \"APORTE CAMPANHA\"\n",
        "df['APORTE_CAMPANHA'].plot(kind='hist')\n",
        "plt.plot()"
      ],
      "execution_count": 699,
      "outputs": [
        {
          "output_type": "execute_result",
          "data": {
            "text/plain": [
              "[]"
            ]
          },
          "metadata": {
            "tags": []
          },
          "execution_count": 699
        },
        {
          "output_type": "display_data",
          "data": {
            "image/png": "[encoded data removed]",
            "text/plain": [
              "<Figure size 432x288 with 1 Axes>"
            ]
          },
          "metadata": {
            "tags": []
          }
        }
      ]
    },
    {
      "cell_type": "code",
      "metadata": {
        "id": "Qjt9QanYa701",
        "colab_type": "code",
        "outputId": "35ccc092-274a-4f21-876c-de0b5c0588b2",
        "colab": {
          "base_uri": "https://localhost:8080/",
          "height": 286
        }
      },
      "source": [
        "# Verificando a distribuição dos dados da coluna \"APORTE SEM CAMPANHA\"\n",
        "\n",
        "df['APORTE_SEM_CAMPANHA'].plot(kind='hist')\n",
        "plt.plot()"
      ],
      "execution_count": 700,
      "outputs": [
        {
          "output_type": "execute_result",
          "data": {
            "text/plain": [
              "[]"
            ]
          },
          "metadata": {
            "tags": []
          },
          "execution_count": 700
        },
        {
          "output_type": "display_data",
          "data": {
            "image/png": "[encoded data removed]",
            "text/plain": [
              "<Figure size 432x288 with 1 Axes>"
            ]
          },
          "metadata": {
            "tags": []
          }
        }
      ]
    },
    {
      "cell_type": "markdown",
      "metadata": {
        "id": "LYUtGw6VbZxp",
        "colab_type": "text"
      },
      "source": [
        "Pode-se observar que estes histogramas não seguem a distribuição normal, o que interfere na análise subsequente dos dados."
      ]
    },
    {
      "cell_type": "markdown",
      "metadata": {
        "id": "oifNLqJYsxhP",
        "colab_type": "text"
      },
      "source": [
        "Agrupando os clientes que realizaram aporte durante a campanha, temos as seguites informações:\n",
        "\n",
        "*   315 clientes realizaram aportes durante a campanha. \n",
        "*   A média destes aportes foi de R\\$ 2677,90 e desvio-padrão de R\\$ 4401,19\n",
        "*   50% destes clientes realizaram aportes de até R\\$ 800,00\n"
      ]
    },
    {
      "cell_type": "code",
      "metadata": {
        "id": "K9BGwHfYh5Y1",
        "colab_type": "code",
        "outputId": "02bffbea-bcce-418f-d028-3e0d25c309c8",
        "colab": {
          "base_uri": "https://localhost:8080/",
          "height": 320
        }
      },
      "source": [
        "df_sucesso_campanha = df[df['APORTE_CAMPANHA'] != 0]\n",
        "df_sucesso_campanha.describe()"
      ],
      "execution_count": 701,
      "outputs": [
        {
          "output_type": "execute_result",
          "data": {
            "text/html": [
              "<div>\n",
              "<style scoped>\n",
              "    .dataframe tbody tr th:only-of-type {\n",
              "        vertical-align: middle;\n",
              "    }\n",
              "\n",
              "    .dataframe tbody tr th {\n",
              "        vertical-align: top;\n",
              "    }\n",
              "\n",
              "    .dataframe thead th {\n",
              "        text-align: right;\n",
              "    }\n",
              "</style>\n",
              "<table border=\"1\" class=\"dataframe\">\n",
              "  <thead>\n",
              "    <tr style=\"text-align: right;\">\n",
              "      <th></th>\n",
              "      <th>ID_CLIENTE</th>\n",
              "      <th>renda_liquida</th>\n",
              "      <th>CONTRIBUICAO</th>\n",
              "      <th>QTD_APORTE_ESPO</th>\n",
              "      <th>SOMA_ESPORADICO</th>\n",
              "      <th>MEDIA_ESPORADICO</th>\n",
              "      <th>MAXIMO_ESPORADICO</th>\n",
              "      <th>APORTE_CAMPANHA</th>\n",
              "      <th>APORTE_SEM_CAMPANHA</th>\n",
              "    </tr>\n",
              "  </thead>\n",
              "  <tbody>\n",
              "    <tr>\n",
              "      <th>count</th>\n",
              "      <td>315.000000</td>\n",
              "      <td>314.000000</td>\n",
              "      <td>315.000000</td>\n",
              "      <td>315.000000</td>\n",
              "      <td>173.000000</td>\n",
              "      <td>173.000000</td>\n",
              "      <td>173.000000</td>\n",
              "      <td>315.000000</td>\n",
              "      <td>315.0</td>\n",
              "    </tr>\n",
              "    <tr>\n",
              "      <th>mean</th>\n",
              "      <td>2123.984127</td>\n",
              "      <td>13343.537261</td>\n",
              "      <td>1311.635048</td>\n",
              "      <td>2.101587</td>\n",
              "      <td>3498.407919</td>\n",
              "      <td>1774.647225</td>\n",
              "      <td>2172.413584</td>\n",
              "      <td>2677.902571</td>\n",
              "      <td>0.0</td>\n",
              "    </tr>\n",
              "    <tr>\n",
              "      <th>std</th>\n",
              "      <td>1165.261386</td>\n",
              "      <td>10293.130938</td>\n",
              "      <td>4873.900546</td>\n",
              "      <td>4.332792</td>\n",
              "      <td>6560.383636</td>\n",
              "      <td>2949.446804</td>\n",
              "      <td>3235.076412</td>\n",
              "      <td>4401.199399</td>\n",
              "      <td>0.0</td>\n",
              "    </tr>\n",
              "    <tr>\n",
              "      <th>min</th>\n",
              "      <td>27.000000</td>\n",
              "      <td>209.650000</td>\n",
              "      <td>25.000000</td>\n",
              "      <td>0.000000</td>\n",
              "      <td>80.000000</td>\n",
              "      <td>50.000000</td>\n",
              "      <td>50.000000</td>\n",
              "      <td>50.000000</td>\n",
              "      <td>0.0</td>\n",
              "    </tr>\n",
              "    <tr>\n",
              "      <th>25%</th>\n",
              "      <td>1165.500000</td>\n",
              "      <td>6483.930000</td>\n",
              "      <td>100.000000</td>\n",
              "      <td>0.000000</td>\n",
              "      <td>650.000000</td>\n",
              "      <td>250.000000</td>\n",
              "      <td>300.000000</td>\n",
              "      <td>347.500000</td>\n",
              "      <td>0.0</td>\n",
              "    </tr>\n",
              "    <tr>\n",
              "      <th>50%</th>\n",
              "      <td>2291.000000</td>\n",
              "      <td>10510.980000</td>\n",
              "      <td>150.000000</td>\n",
              "      <td>1.000000</td>\n",
              "      <td>2000.000000</td>\n",
              "      <td>633.330000</td>\n",
              "      <td>1000.000000</td>\n",
              "      <td>800.000000</td>\n",
              "      <td>0.0</td>\n",
              "    </tr>\n",
              "    <tr>\n",
              "      <th>75%</th>\n",
              "      <td>3102.500000</td>\n",
              "      <td>17733.355000</td>\n",
              "      <td>250.000000</td>\n",
              "      <td>2.000000</td>\n",
              "      <td>4840.000000</td>\n",
              "      <td>2000.000000</td>\n",
              "      <td>2700.000000</td>\n",
              "      <td>2400.000000</td>\n",
              "      <td>0.0</td>\n",
              "    </tr>\n",
              "    <tr>\n",
              "      <th>max</th>\n",
              "      <td>3998.000000</td>\n",
              "      <td>75727.700000</td>\n",
              "      <td>50050.000000</td>\n",
              "      <td>47.000000</td>\n",
              "      <td>73200.000000</td>\n",
              "      <td>25000.000000</td>\n",
              "      <td>25000.000000</td>\n",
              "      <td>25000.000000</td>\n",
              "      <td>0.0</td>\n",
              "    </tr>\n",
              "  </tbody>\n",
              "</table>\n",
              "</div>"
            ],
            "text/plain": [
              "        ID_CLIENTE  renda_liquida  ...  APORTE_CAMPANHA  APORTE_SEM_CAMPANHA\n",
              "count   315.000000     314.000000  ...       315.000000                315.0\n",
              "mean   2123.984127   13343.537261  ...      2677.902571                  0.0\n",
              "std    1165.261386   10293.130938  ...      4401.199399                  0.0\n",
              "min      27.000000     209.650000  ...        50.000000                  0.0\n",
              "25%    1165.500000    6483.930000  ...       347.500000                  0.0\n",
              "50%    2291.000000   10510.980000  ...       800.000000                  0.0\n",
              "75%    3102.500000   17733.355000  ...      2400.000000                  0.0\n",
              "max    3998.000000   75727.700000  ...     25000.000000                  0.0\n",
              "\n",
              "[8 rows x 9 columns]"
            ]
          },
          "metadata": {
            "tags": []
          },
          "execution_count": 701
        }
      ]
    },
    {
      "cell_type": "markdown",
      "metadata": {
        "id": "jeKssALCDd44",
        "colab_type": "text"
      },
      "source": [
        "No gráfico visualizamos melhor a distribuição do valor destes aportes durante a campanha."
      ]
    },
    {
      "cell_type": "code",
      "metadata": {
        "id": "RpXMr6eQDcXD",
        "colab_type": "code",
        "outputId": "95b86fec-a944-4979-bcf5-bf973fd1ee6c",
        "colab": {
          "base_uri": "https://localhost:8080/",
          "height": 386
        }
      },
      "source": [
        "sns.catplot(x='APORTE_CAMPANHA', data=df_sucesso_campanha)\n",
        "plt.plot()"
      ],
      "execution_count": 702,
      "outputs": [
        {
          "output_type": "execute_result",
          "data": {
            "text/plain": [
              "[]"
            ]
          },
          "metadata": {
            "tags": []
          },
          "execution_count": 702
        },
        {
          "output_type": "display_data",
          "data": {
            "image/png": "[encoded data removed]",
            "text/plain": [
              "<Figure size 360x360 with 1 Axes>"
            ]
          },
          "metadata": {
            "tags": []
          }
        }
      ]
    },
    {
      "cell_type": "markdown",
      "metadata": {
        "id": "BRtBdxL1B6ws",
        "colab_type": "text"
      },
      "source": [
        "Dentre os clientes que foram abordados com sucesso:\n",
        "\n",
        "*   **142 não haviam feito contribuições esporádicas nos últimos 12 meses , o que corresponde a 45,07% dos clientes que fizeram aporte durante a campanha**.\n",
        "*   A contribuição média destes clientes foi de R\\$ 2766,21 e desvio-padrão de R\\$ 4566,41\n",
        "*   50% destas contribuições foram de até R\\$ 1000,00"
      ]
    },
    {
      "cell_type": "code",
      "metadata": {
        "id": "X71zdURn_hDJ",
        "colab_type": "code",
        "outputId": "5e02898e-0262-475c-aa89-fd85c452a194",
        "colab": {
          "base_uri": "https://localhost:8080/",
          "height": 355
        }
      },
      "source": [
        "df_sucesso_campanha[df['QTD_APORTE_ESPO'] == 0].describe()"
      ],
      "execution_count": 703,
      "outputs": [
        {
          "output_type": "stream",
          "text": [
            "/usr/local/lib/python3.6/dist-packages/ipykernel_launcher.py:1: UserWarning: Boolean Series key will be reindexed to match DataFrame index.\n",
            "  \"\"\"Entry point for launching an IPython kernel.\n"
          ],
          "name": "stderr"
        },
        {
          "output_type": "execute_result",
          "data": {
            "text/html": [
              "<div>\n",
              "<style scoped>\n",
              "    .dataframe tbody tr th:only-of-type {\n",
              "        vertical-align: middle;\n",
              "    }\n",
              "\n",
              "    .dataframe tbody tr th {\n",
              "        vertical-align: top;\n",
              "    }\n",
              "\n",
              "    .dataframe thead th {\n",
              "        text-align: right;\n",
              "    }\n",
              "</style>\n",
              "<table border=\"1\" class=\"dataframe\">\n",
              "  <thead>\n",
              "    <tr style=\"text-align: right;\">\n",
              "      <th></th>\n",
              "      <th>ID_CLIENTE</th>\n",
              "      <th>renda_liquida</th>\n",
              "      <th>CONTRIBUICAO</th>\n",
              "      <th>QTD_APORTE_ESPO</th>\n",
              "      <th>SOMA_ESPORADICO</th>\n",
              "      <th>MEDIA_ESPORADICO</th>\n",
              "      <th>MAXIMO_ESPORADICO</th>\n",
              "      <th>APORTE_CAMPANHA</th>\n",
              "      <th>APORTE_SEM_CAMPANHA</th>\n",
              "    </tr>\n",
              "  </thead>\n",
              "  <tbody>\n",
              "    <tr>\n",
              "      <th>count</th>\n",
              "      <td>142.000000</td>\n",
              "      <td>142.000000</td>\n",
              "      <td>142.000000</td>\n",
              "      <td>142.0</td>\n",
              "      <td>0.0</td>\n",
              "      <td>0.0</td>\n",
              "      <td>0.0</td>\n",
              "      <td>142.000000</td>\n",
              "      <td>142.0</td>\n",
              "    </tr>\n",
              "    <tr>\n",
              "      <th>mean</th>\n",
              "      <td>2148.591549</td>\n",
              "      <td>12465.821761</td>\n",
              "      <td>1530.845704</td>\n",
              "      <td>0.0</td>\n",
              "      <td>NaN</td>\n",
              "      <td>NaN</td>\n",
              "      <td>NaN</td>\n",
              "      <td>2766.216479</td>\n",
              "      <td>0.0</td>\n",
              "    </tr>\n",
              "    <tr>\n",
              "      <th>std</th>\n",
              "      <td>1144.992274</td>\n",
              "      <td>7817.914208</td>\n",
              "      <td>6489.621067</td>\n",
              "      <td>0.0</td>\n",
              "      <td>NaN</td>\n",
              "      <td>NaN</td>\n",
              "      <td>NaN</td>\n",
              "      <td>4566.414357</td>\n",
              "      <td>0.0</td>\n",
              "    </tr>\n",
              "    <tr>\n",
              "      <th>min</th>\n",
              "      <td>27.000000</td>\n",
              "      <td>576.300000</td>\n",
              "      <td>50.000000</td>\n",
              "      <td>0.0</td>\n",
              "      <td>NaN</td>\n",
              "      <td>NaN</td>\n",
              "      <td>NaN</td>\n",
              "      <td>50.000000</td>\n",
              "      <td>0.0</td>\n",
              "    </tr>\n",
              "    <tr>\n",
              "      <th>25%</th>\n",
              "      <td>1237.000000</td>\n",
              "      <td>6726.390000</td>\n",
              "      <td>100.000000</td>\n",
              "      <td>0.0</td>\n",
              "      <td>NaN</td>\n",
              "      <td>NaN</td>\n",
              "      <td>NaN</td>\n",
              "      <td>400.000000</td>\n",
              "      <td>0.0</td>\n",
              "    </tr>\n",
              "    <tr>\n",
              "      <th>50%</th>\n",
              "      <td>2314.500000</td>\n",
              "      <td>10510.980000</td>\n",
              "      <td>150.000000</td>\n",
              "      <td>0.0</td>\n",
              "      <td>NaN</td>\n",
              "      <td>NaN</td>\n",
              "      <td>NaN</td>\n",
              "      <td>1000.000000</td>\n",
              "      <td>0.0</td>\n",
              "    </tr>\n",
              "    <tr>\n",
              "      <th>75%</th>\n",
              "      <td>3014.750000</td>\n",
              "      <td>17225.210000</td>\n",
              "      <td>210.405000</td>\n",
              "      <td>0.0</td>\n",
              "      <td>NaN</td>\n",
              "      <td>NaN</td>\n",
              "      <td>NaN</td>\n",
              "      <td>3000.000000</td>\n",
              "      <td>0.0</td>\n",
              "    </tr>\n",
              "    <tr>\n",
              "      <th>max</th>\n",
              "      <td>3978.000000</td>\n",
              "      <td>45220.630000</td>\n",
              "      <td>50050.000000</td>\n",
              "      <td>0.0</td>\n",
              "      <td>NaN</td>\n",
              "      <td>NaN</td>\n",
              "      <td>NaN</td>\n",
              "      <td>22000.000000</td>\n",
              "      <td>0.0</td>\n",
              "    </tr>\n",
              "  </tbody>\n",
              "</table>\n",
              "</div>"
            ],
            "text/plain": [
              "        ID_CLIENTE  renda_liquida  ...  APORTE_CAMPANHA  APORTE_SEM_CAMPANHA\n",
              "count   142.000000     142.000000  ...       142.000000                142.0\n",
              "mean   2148.591549   12465.821761  ...      2766.216479                  0.0\n",
              "std    1144.992274    7817.914208  ...      4566.414357                  0.0\n",
              "min      27.000000     576.300000  ...        50.000000                  0.0\n",
              "25%    1237.000000    6726.390000  ...       400.000000                  0.0\n",
              "50%    2314.500000   10510.980000  ...      1000.000000                  0.0\n",
              "75%    3014.750000   17225.210000  ...      3000.000000                  0.0\n",
              "max    3978.000000   45220.630000  ...     22000.000000                  0.0\n",
              "\n",
              "[8 rows x 9 columns]"
            ]
          },
          "metadata": {
            "tags": []
          },
          "execution_count": 703
        }
      ]
    },
    {
      "cell_type": "markdown",
      "metadata": {
        "id": "1xeA1lLFLkWg",
        "colab_type": "text"
      },
      "source": [
        "Dentre os clientes que realizaram aportes durante o período da campanha mas **NÃO** foram abordados temos as informações abaixo:\n",
        "\n",
        "*   211 clientes que realizaram aportes sem terem participado da campanha\n",
        "*   Aporte médio de R\\$ 8196,04 e desvio-padrão de R\\$ 30779,33\n",
        "*   50% dos aportes foram de até R\\$ 1000,00\n",
        "*   **76 destes clientes, ou 36,01%, já haviam feito aportes esporádicos nos últimos 12 meses**"
      ]
    },
    {
      "cell_type": "code",
      "metadata": {
        "id": "Xqr7wj2VLVnF",
        "colab_type": "code",
        "outputId": "f66ddd1f-c9cb-49e6-9a81-3b4f570f92e9",
        "colab": {
          "base_uri": "https://localhost:8080/",
          "height": 320
        }
      },
      "source": [
        "df_sem_campanha = df[df['APORTE_SEM_CAMPANHA'] != 0]\n",
        "df_sem_campanha.describe()"
      ],
      "execution_count": 704,
      "outputs": [
        {
          "output_type": "execute_result",
          "data": {
            "text/html": [
              "<div>\n",
              "<style scoped>\n",
              "    .dataframe tbody tr th:only-of-type {\n",
              "        vertical-align: middle;\n",
              "    }\n",
              "\n",
              "    .dataframe tbody tr th {\n",
              "        vertical-align: top;\n",
              "    }\n",
              "\n",
              "    .dataframe thead th {\n",
              "        text-align: right;\n",
              "    }\n",
              "</style>\n",
              "<table border=\"1\" class=\"dataframe\">\n",
              "  <thead>\n",
              "    <tr style=\"text-align: right;\">\n",
              "      <th></th>\n",
              "      <th>ID_CLIENTE</th>\n",
              "      <th>renda_liquida</th>\n",
              "      <th>CONTRIBUICAO</th>\n",
              "      <th>QTD_APORTE_ESPO</th>\n",
              "      <th>SOMA_ESPORADICO</th>\n",
              "      <th>MEDIA_ESPORADICO</th>\n",
              "      <th>MAXIMO_ESPORADICO</th>\n",
              "      <th>APORTE_CAMPANHA</th>\n",
              "      <th>APORTE_SEM_CAMPANHA</th>\n",
              "    </tr>\n",
              "  </thead>\n",
              "  <tbody>\n",
              "    <tr>\n",
              "      <th>count</th>\n",
              "      <td>211.000000</td>\n",
              "      <td>210.000000</td>\n",
              "      <td>211.000000</td>\n",
              "      <td>211.000000</td>\n",
              "      <td>76.000000</td>\n",
              "      <td>76.000000</td>\n",
              "      <td>76.000000</td>\n",
              "      <td>211.0</td>\n",
              "      <td>211.000000</td>\n",
              "    </tr>\n",
              "    <tr>\n",
              "      <th>mean</th>\n",
              "      <td>2025.417062</td>\n",
              "      <td>11811.542190</td>\n",
              "      <td>4106.359953</td>\n",
              "      <td>0.900474</td>\n",
              "      <td>11559.936579</td>\n",
              "      <td>5154.449474</td>\n",
              "      <td>6150.635000</td>\n",
              "      <td>0.0</td>\n",
              "      <td>8196.044834</td>\n",
              "    </tr>\n",
              "    <tr>\n",
              "      <th>std</th>\n",
              "      <td>1158.175481</td>\n",
              "      <td>15712.543325</td>\n",
              "      <td>21325.372282</td>\n",
              "      <td>2.215648</td>\n",
              "      <td>49688.053681</td>\n",
              "      <td>13492.724014</td>\n",
              "      <td>15866.841839</td>\n",
              "      <td>0.0</td>\n",
              "      <td>30779.331313</td>\n",
              "    </tr>\n",
              "    <tr>\n",
              "      <th>min</th>\n",
              "      <td>1.000000</td>\n",
              "      <td>0.000000</td>\n",
              "      <td>25.000000</td>\n",
              "      <td>0.000000</td>\n",
              "      <td>100.000000</td>\n",
              "      <td>70.000000</td>\n",
              "      <td>100.000000</td>\n",
              "      <td>0.0</td>\n",
              "      <td>50.000000</td>\n",
              "    </tr>\n",
              "    <tr>\n",
              "      <th>25%</th>\n",
              "      <td>1083.500000</td>\n",
              "      <td>3247.230000</td>\n",
              "      <td>77.115000</td>\n",
              "      <td>0.000000</td>\n",
              "      <td>677.500000</td>\n",
              "      <td>394.497500</td>\n",
              "      <td>500.000000</td>\n",
              "      <td>0.0</td>\n",
              "      <td>500.000000</td>\n",
              "    </tr>\n",
              "    <tr>\n",
              "      <th>50%</th>\n",
              "      <td>1983.000000</td>\n",
              "      <td>7101.795000</td>\n",
              "      <td>124.290000</td>\n",
              "      <td>0.000000</td>\n",
              "      <td>1960.000000</td>\n",
              "      <td>1000.000000</td>\n",
              "      <td>1000.000000</td>\n",
              "      <td>0.0</td>\n",
              "      <td>1100.000000</td>\n",
              "    </tr>\n",
              "    <tr>\n",
              "      <th>75%</th>\n",
              "      <td>2997.500000</td>\n",
              "      <td>16038.157500</td>\n",
              "      <td>250.000000</td>\n",
              "      <td>1.000000</td>\n",
              "      <td>6000.000000</td>\n",
              "      <td>3625.000000</td>\n",
              "      <td>4400.000000</td>\n",
              "      <td>0.0</td>\n",
              "      <td>5000.000000</td>\n",
              "    </tr>\n",
              "    <tr>\n",
              "      <th>max</th>\n",
              "      <td>3974.000000</td>\n",
              "      <td>156162.290000</td>\n",
              "      <td>240000.000000</td>\n",
              "      <td>16.000000</td>\n",
              "      <td>423283.330000</td>\n",
              "      <td>101000.000000</td>\n",
              "      <td>101000.000000</td>\n",
              "      <td>0.0</td>\n",
              "      <td>346632.990000</td>\n",
              "    </tr>\n",
              "  </tbody>\n",
              "</table>\n",
              "</div>"
            ],
            "text/plain": [
              "        ID_CLIENTE  renda_liquida  ...  APORTE_CAMPANHA  APORTE_SEM_CAMPANHA\n",
              "count   211.000000     210.000000  ...            211.0           211.000000\n",
              "mean   2025.417062   11811.542190  ...              0.0          8196.044834\n",
              "std    1158.175481   15712.543325  ...              0.0         30779.331313\n",
              "min       1.000000       0.000000  ...              0.0            50.000000\n",
              "25%    1083.500000    3247.230000  ...              0.0           500.000000\n",
              "50%    1983.000000    7101.795000  ...              0.0          1100.000000\n",
              "75%    2997.500000   16038.157500  ...              0.0          5000.000000\n",
              "max    3974.000000  156162.290000  ...              0.0        346632.990000\n",
              "\n",
              "[8 rows x 9 columns]"
            ]
          },
          "metadata": {
            "tags": []
          },
          "execution_count": 704
        }
      ]
    },
    {
      "cell_type": "code",
      "metadata": {
        "id": "hN5z910FnNub",
        "colab_type": "code",
        "outputId": "2e54109e-7249-4bc4-9608-e0ba9b4e92ad",
        "colab": {
          "base_uri": "https://localhost:8080/",
          "height": 34
        }
      },
      "source": [
        "# Correlação entre a quantidade de aportes esporádicos e os aportes sem campanha\n",
        "\n",
        "df['QTD_APORTE_ESPO'].corr(df['APORTE_SEM_CAMPANHA'])"
      ],
      "execution_count": 705,
      "outputs": [
        {
          "output_type": "execute_result",
          "data": {
            "text/plain": [
              "0.09970629389512428"
            ]
          },
          "metadata": {
            "tags": []
          },
          "execution_count": 705
        }
      ]
    },
    {
      "cell_type": "code",
      "metadata": {
        "id": "MAw1AxdVn1F5",
        "colab_type": "code",
        "outputId": "7f12e08b-83c4-4b55-96d4-956d7c8e57cd",
        "colab": {
          "base_uri": "https://localhost:8080/",
          "height": 34
        }
      },
      "source": [
        "# Correlação entre a quantidade de aportes esporádicos e os aportes da campanha\n",
        "\n",
        "df['QTD_APORTE_ESPO'].corr(df['APORTE_CAMPANHA'])"
      ],
      "execution_count": 706,
      "outputs": [
        {
          "output_type": "execute_result",
          "data": {
            "text/plain": [
              "0.0943603948508248"
            ]
          },
          "metadata": {
            "tags": []
          },
          "execution_count": 706
        }
      ]
    },
    {
      "cell_type": "markdown",
      "metadata": {
        "id": "scOmvrF5Tk7i",
        "colab_type": "text"
      },
      "source": [
        "### Conclusão\n",
        "\n",
        "Como pode-se ver não há correlação significativa entre o aporte de recursos e a participação ou não do cliente durante a campanha. Além do mais, os clientes \"sem abordagem\", que estavam a mais de 12 meses sem realizar aportes, realizaram um percentual maior de contribuições do que os que participaram da campanha, aproximadamente, 64% a 45%, respectivamente.\n",
        "\n",
        "Considerando que também não há grande diferença entre os 50% menores aportes do grupo que participou da campanha e o que não participou, ademais os custos envolvidos na mobilização e no contato com o cliente, sugiro uma readequação da campanha para maior efetividade."
      ]
    },
    {
      "cell_type": "markdown",
      "metadata": {
        "id": "t5XIFnHQUxua",
        "colab_type": "text"
      },
      "source": [
        "## Questão 3"
      ]
    },
    {
      "cell_type": "markdown",
      "metadata": {
        "id": "TVd2Tpb7yT_b",
        "colab_type": "text"
      },
      "source": [
        "> **Sendo você um candidato para atuar na nossa equipe, utilize a amostra\n",
        "de dados chamada PROTEGIDO, construa análises ou modelos que produzam\n",
        "insights que auxiliem na entrega deste desafio.\n",
        "Demonstre suas análises/modelos e conclusões, pense em uma\n",
        "campanha comercial ou de relacionamento que permita testar e validar seus\n",
        "insights.**\n",
        "\n",
        "\n",
        "---"
      ]
    },
    {
      "cell_type": "code",
      "metadata": {
        "id": "qOfknzB2Ycrc",
        "colab_type": "code",
        "colab": {}
      },
      "source": [
        "from google.colab import drive\n",
        "import pandas as pd\n",
        "import matplotlib.pyplot as plt\n",
        "import numpy as np\n",
        "import seaborn as sns\n",
        "import os\n",
        "from sklearn import preprocessing\n",
        "import statsmodels.api as sm"
      ],
      "execution_count": 0,
      "outputs": []
    },
    {
      "cell_type": "code",
      "metadata": {
        "id": "YaQTDgN2YmRD",
        "colab_type": "code",
        "colab": {
          "base_uri": "https://localhost:8080/",
          "height": 34
        },
        "outputId": "f3d9b1cc-61aa-4890-95a6-8ca9aa0575b9"
      },
      "source": [
        "drive.mount('/content/drive')"
      ],
      "execution_count": 708,
      "outputs": [
        {
          "output_type": "stream",
          "text": [
            "Drive already mounted at /content/drive; to attempt to forcibly remount, call drive.mount(\"/content/drive\", force_remount=True).\n"
          ],
          "name": "stdout"
        }
      ]
    },
    {
      "cell_type": "markdown",
      "metadata": {
        "id": "8J96oqM2Yt4R",
        "colab_type": "text"
      },
      "source": [
        "### Exploração de Dados"
      ]
    },
    {
      "cell_type": "code",
      "metadata": {
        "id": "pQanON9HY1ww",
        "colab_type": "code",
        "colab": {
          "base_uri": "https://localhost:8080/",
          "height": 383
        },
        "outputId": "2dd0067b-0551-4b26-f22d-096cf0436395"
      },
      "source": [
        "docs_path = '/content/drive/My Drive/Colab Notebooks/BB_Seguros/'\n",
        "df = pd.read_csv(docs_path+'PROTEGIDO.csv', encoding='iso-8859-1',sep=';')\n",
        "df.head()"
      ],
      "execution_count": 709,
      "outputs": [
        {
          "output_type": "execute_result",
          "data": {
            "text/html": [
              "<div>\n",
              "<style scoped>\n",
              "    .dataframe tbody tr th:only-of-type {\n",
              "        vertical-align: middle;\n",
              "    }\n",
              "\n",
              "    .dataframe tbody tr th {\n",
              "        vertical-align: top;\n",
              "    }\n",
              "\n",
              "    .dataframe thead th {\n",
              "        text-align: right;\n",
              "    }\n",
              "</style>\n",
              "<table border=\"1\" class=\"dataframe\">\n",
              "  <thead>\n",
              "    <tr style=\"text-align: right;\">\n",
              "      <th></th>\n",
              "      <th>IN_PROTEGIDO</th>\n",
              "      <th>ID_CLIENTE</th>\n",
              "      <th>IDADE</th>\n",
              "      <th>estado_civil</th>\n",
              "      <th>grau_instrucao</th>\n",
              "      <th>renda_liquida</th>\n",
              "      <th>CEP</th>\n",
              "      <th>REGIAO</th>\n",
              "      <th>uf</th>\n",
              "      <th>municipio</th>\n",
              "      <th>bairro</th>\n",
              "      <th>ID_CDC</th>\n",
              "      <th>LINHA_CDC</th>\n",
              "      <th>CANAL_CDC</th>\n",
              "      <th>VALOR_CDC</th>\n",
              "      <th>VALOR_PARCELA</th>\n",
              "      <th>VALOR_PREMIO</th>\n",
              "      <th>BENEFICIARIO_SEGURO</th>\n",
              "      <th>Total</th>\n",
              "      <th>AllocProportion</th>\n",
              "      <th>SampleSize</th>\n",
              "      <th>ActualProportion</th>\n",
              "      <th>SelectionProb</th>\n",
              "      <th>SamplingWeight</th>\n",
              "    </tr>\n",
              "  </thead>\n",
              "  <tbody>\n",
              "    <tr>\n",
              "      <th>0</th>\n",
              "      <td>0</td>\n",
              "      <td>779</td>\n",
              "      <td>59</td>\n",
              "      <td>Divorciado</td>\n",
              "      <td>Pos-Graduacao</td>\n",
              "      <td>7678.46</td>\n",
              "      <td>79010600</td>\n",
              "      <td>CENTRO-OESTE</td>\n",
              "      <td>MS</td>\n",
              "      <td>CAMPO GRANDE</td>\n",
              "      <td>CEL ANTONINO</td>\n",
              "      <td>1314</td>\n",
              "      <td>BB CREDITO 13 SALARIO</td>\n",
              "      <td>MOBILE</td>\n",
              "      <td>1.552,23</td>\n",
              "      <td>2.274,76</td>\n",
              "      <td>NaN</td>\n",
              "      <td>NaN</td>\n",
              "      <td>847389</td>\n",
              "      <td>0.935873</td>\n",
              "      <td>1872</td>\n",
              "      <td>0.936</td>\n",
              "      <td>0.002209</td>\n",
              "      <td>452.665064</td>\n",
              "    </tr>\n",
              "    <tr>\n",
              "      <th>1</th>\n",
              "      <td>0</td>\n",
              "      <td>827</td>\n",
              "      <td>64</td>\n",
              "      <td>Solteiro</td>\n",
              "      <td>Segundo Grau</td>\n",
              "      <td>8564.43</td>\n",
              "      <td>79010600</td>\n",
              "      <td>CENTRO-OESTE</td>\n",
              "      <td>MS</td>\n",
              "      <td>CAMPO GRANDE</td>\n",
              "      <td>CEL ANTONINO</td>\n",
              "      <td>1398</td>\n",
              "      <td>BB CREDITO 13 SALARIO</td>\n",
              "      <td>MOBILE</td>\n",
              "      <td>3.239,82</td>\n",
              "      <td>4.265,70</td>\n",
              "      <td>NaN</td>\n",
              "      <td>NaN</td>\n",
              "      <td>847389</td>\n",
              "      <td>0.935873</td>\n",
              "      <td>1872</td>\n",
              "      <td>0.936</td>\n",
              "      <td>0.002209</td>\n",
              "      <td>452.665064</td>\n",
              "    </tr>\n",
              "    <tr>\n",
              "      <th>2</th>\n",
              "      <td>0</td>\n",
              "      <td>1424</td>\n",
              "      <td>50</td>\n",
              "      <td>Solteiro</td>\n",
              "      <td>Superior Completo</td>\n",
              "      <td>5424.71</td>\n",
              "      <td>87970000</td>\n",
              "      <td>SUL</td>\n",
              "      <td>PR</td>\n",
              "      <td>NOVA LONDRINA</td>\n",
              "      <td>CENTRO</td>\n",
              "      <td>2517</td>\n",
              "      <td>BB CREDITO PARCELAMENTO CHEQUE ESPECIAL</td>\n",
              "      <td>MOBILE</td>\n",
              "      <td>986,92</td>\n",
              "      <td>368,72</td>\n",
              "      <td>NaN</td>\n",
              "      <td>NaN</td>\n",
              "      <td>847389</td>\n",
              "      <td>0.935873</td>\n",
              "      <td>1872</td>\n",
              "      <td>0.936</td>\n",
              "      <td>0.002209</td>\n",
              "      <td>452.665064</td>\n",
              "    </tr>\n",
              "    <tr>\n",
              "      <th>3</th>\n",
              "      <td>0</td>\n",
              "      <td>1936</td>\n",
              "      <td>46</td>\n",
              "      <td>Casado - Comunhao Parcial</td>\n",
              "      <td>Pos-Graduacao</td>\n",
              "      <td>3102.33</td>\n",
              "      <td>87013050</td>\n",
              "      <td>SUL</td>\n",
              "      <td>PR</td>\n",
              "      <td>MARINGA</td>\n",
              "      <td>ZONA 01</td>\n",
              "      <td>3401</td>\n",
              "      <td>BB CREDITO SALARIO FUNCI</td>\n",
              "      <td>MOBILE</td>\n",
              "      <td>2.622,04</td>\n",
              "      <td>44,89</td>\n",
              "      <td>NaN</td>\n",
              "      <td>NaN</td>\n",
              "      <td>847389</td>\n",
              "      <td>0.935873</td>\n",
              "      <td>1872</td>\n",
              "      <td>0.936</td>\n",
              "      <td>0.002209</td>\n",
              "      <td>452.665064</td>\n",
              "    </tr>\n",
              "    <tr>\n",
              "      <th>4</th>\n",
              "      <td>0</td>\n",
              "      <td>2414</td>\n",
              "      <td>33</td>\n",
              "      <td>Casado - Comunhao Parcial</td>\n",
              "      <td>Primeiro Grau</td>\n",
              "      <td>1310.21</td>\n",
              "      <td>37948000</td>\n",
              "      <td>SUDESTE</td>\n",
              "      <td>MG</td>\n",
              "      <td>BOM JESUS DA PENHA</td>\n",
              "      <td>CENTRO</td>\n",
              "      <td>4246</td>\n",
              "      <td>BB CREDITO 13 SALARIO</td>\n",
              "      <td>MOBILE</td>\n",
              "      <td>118,38</td>\n",
              "      <td>167,58</td>\n",
              "      <td>NaN</td>\n",
              "      <td>NaN</td>\n",
              "      <td>847389</td>\n",
              "      <td>0.935873</td>\n",
              "      <td>1872</td>\n",
              "      <td>0.936</td>\n",
              "      <td>0.002209</td>\n",
              "      <td>452.665064</td>\n",
              "    </tr>\n",
              "  </tbody>\n",
              "</table>\n",
              "</div>"
            ],
            "text/plain": [
              "   IN_PROTEGIDO  ID_CLIENTE  ...  SelectionProb SamplingWeight\n",
              "0             0         779  ...       0.002209     452.665064\n",
              "1             0         827  ...       0.002209     452.665064\n",
              "2             0        1424  ...       0.002209     452.665064\n",
              "3             0        1936  ...       0.002209     452.665064\n",
              "4             0        2414  ...       0.002209     452.665064\n",
              "\n",
              "[5 rows x 24 columns]"
            ]
          },
          "metadata": {
            "tags": []
          },
          "execution_count": 709
        }
      ]
    },
    {
      "cell_type": "code",
      "metadata": {
        "id": "p27O7Yf8a_t1",
        "colab_type": "code",
        "colab": {
          "base_uri": "https://localhost:8080/",
          "height": 521
        },
        "outputId": "7838ec3b-5875-47d6-e49a-e638bf661bf2"
      },
      "source": [
        "# Verificando número de amostras e tipos de dados\n",
        "df.info()"
      ],
      "execution_count": 710,
      "outputs": [
        {
          "output_type": "stream",
          "text": [
            "<class 'pandas.core.frame.DataFrame'>\n",
            "RangeIndex: 2000 entries, 0 to 1999\n",
            "Data columns (total 24 columns):\n",
            "IN_PROTEGIDO           2000 non-null int64\n",
            "ID_CLIENTE             2000 non-null int64\n",
            "IDADE                  2000 non-null int64\n",
            "estado_civil           1979 non-null object\n",
            "grau_instrucao         1979 non-null object\n",
            "renda_liquida          1976 non-null float64\n",
            "CEP                    2000 non-null int64\n",
            "REGIAO                 2000 non-null object\n",
            "uf                     2000 non-null object\n",
            "municipio              2000 non-null object\n",
            "bairro                 2000 non-null object\n",
            "ID_CDC                 2000 non-null int64\n",
            "LINHA_CDC              2000 non-null object\n",
            "CANAL_CDC              2000 non-null object\n",
            "VALOR_CDC              2000 non-null object\n",
            "VALOR_PARCELA          2000 non-null object\n",
            "VALOR_PREMIO           128 non-null object\n",
            "BENEFICIARIO_SEGURO    128 non-null object\n",
            "Total                  2000 non-null int64\n",
            "AllocProportion        2000 non-null float64\n",
            "SampleSize             2000 non-null int64\n",
            "ActualProportion       2000 non-null float64\n",
            "SelectionProb          2000 non-null float64\n",
            "SamplingWeight         2000 non-null float64\n",
            "dtypes: float64(5), int64(7), object(12)\n",
            "memory usage: 375.1+ KB\n"
          ],
          "name": "stdout"
        }
      ]
    },
    {
      "cell_type": "code",
      "metadata": {
        "id": "hDD-DPxxvAdX",
        "colab_type": "code",
        "colab": {
          "base_uri": "https://localhost:8080/",
          "height": 69
        },
        "outputId": "094867f9-222e-4155-c2da-1a45084409f5"
      },
      "source": [
        "# Verificando os labels\n",
        "# 0 -> não tem seguro protegido\n",
        "# 1 -> tem seguro protegido\n",
        "  df.IN_PROTEGIDO.value_counts()"
      ],
      "execution_count": 711,
      "outputs": [
        {
          "output_type": "execute_result",
          "data": {
            "text/plain": [
              "0    1872\n",
              "1     128\n",
              "Name: IN_PROTEGIDO, dtype: int64"
            ]
          },
          "metadata": {
            "tags": []
          },
          "execution_count": 711
        }
      ]
    },
    {
      "cell_type": "code",
      "metadata": {
        "id": "r44ALUcLvmuB",
        "colab_type": "code",
        "colab": {
          "base_uri": "https://localhost:8080/",
          "height": 284
        },
        "outputId": "5c942010-536e-4cd1-d7bf-f48732b0b16b"
      },
      "source": [
        "# Plotagem do gráfico dos dados acima, evidênciando a diferença entre os segurados e não-segurados\n",
        "sns.countplot(x='IN_PROTEGIDO',data=df)\n",
        "plt.show()"
      ],
      "execution_count": 712,
      "outputs": [
        {
          "output_type": "display_data",
          "data": {
            "image/png": "[encoded data removed]",
            "text/plain": [
              "<Figure size 432x288 with 1 Axes>"
            ]
          },
          "metadata": {
            "tags": []
          }
        }
      ]
    },
    {
      "cell_type": "code",
      "metadata": {
        "id": "7rEnCde_wJdG",
        "colab_type": "code",
        "colab": {
          "base_uri": "https://localhost:8080/",
          "height": 320
        },
        "outputId": "7e87fb52-5e75-4603-eb63-708d7bb00783"
      },
      "source": [
        "# Separação dos dados do seguro cŕedito protegido para visualização\n",
        "df_protegido = df[df['IN_PROTEGIDO'] == 1]\n",
        "df_protegido.describe()"
      ],
      "execution_count": 713,
      "outputs": [
        {
          "output_type": "execute_result",
          "data": {
            "text/html": [
              "<div>\n",
              "<style scoped>\n",
              "    .dataframe tbody tr th:only-of-type {\n",
              "        vertical-align: middle;\n",
              "    }\n",
              "\n",
              "    .dataframe tbody tr th {\n",
              "        vertical-align: top;\n",
              "    }\n",
              "\n",
              "    .dataframe thead th {\n",
              "        text-align: right;\n",
              "    }\n",
              "</style>\n",
              "<table border=\"1\" class=\"dataframe\">\n",
              "  <thead>\n",
              "    <tr style=\"text-align: right;\">\n",
              "      <th></th>\n",
              "      <th>IN_PROTEGIDO</th>\n",
              "      <th>ID_CLIENTE</th>\n",
              "      <th>IDADE</th>\n",
              "      <th>renda_liquida</th>\n",
              "      <th>CEP</th>\n",
              "      <th>ID_CDC</th>\n",
              "      <th>Total</th>\n",
              "      <th>AllocProportion</th>\n",
              "      <th>SampleSize</th>\n",
              "      <th>ActualProportion</th>\n",
              "      <th>SelectionProb</th>\n",
              "      <th>SamplingWeight</th>\n",
              "    </tr>\n",
              "  </thead>\n",
              "  <tbody>\n",
              "    <tr>\n",
              "      <th>count</th>\n",
              "      <td>128.0</td>\n",
              "      <td>128.000000</td>\n",
              "      <td>128.000000</td>\n",
              "      <td>128.000000</td>\n",
              "      <td>1.280000e+02</td>\n",
              "      <td>128.000000</td>\n",
              "      <td>128.0</td>\n",
              "      <td>1.280000e+02</td>\n",
              "      <td>128.0</td>\n",
              "      <td>1.280000e+02</td>\n",
              "      <td>1.280000e+02</td>\n",
              "      <td>128.000</td>\n",
              "    </tr>\n",
              "    <tr>\n",
              "      <th>mean</th>\n",
              "      <td>1.0</td>\n",
              "      <td>268269.351562</td>\n",
              "      <td>41.257812</td>\n",
              "      <td>4305.094062</td>\n",
              "      <td>5.216989e+07</td>\n",
              "      <td>469154.140625</td>\n",
              "      <td>58064.0</td>\n",
              "      <td>6.412702e-02</td>\n",
              "      <td>128.0</td>\n",
              "      <td>6.400000e-02</td>\n",
              "      <td>2.204464e-03</td>\n",
              "      <td>453.625</td>\n",
              "    </tr>\n",
              "    <tr>\n",
              "      <th>std</th>\n",
              "      <td>0.0</td>\n",
              "      <td>139729.449828</td>\n",
              "      <td>12.839559</td>\n",
              "      <td>3847.267886</td>\n",
              "      <td>2.961684e+07</td>\n",
              "      <td>244057.622628</td>\n",
              "      <td>0.0</td>\n",
              "      <td>1.253909e-16</td>\n",
              "      <td>0.0</td>\n",
              "      <td>4.179695e-17</td>\n",
              "      <td>1.741540e-18</td>\n",
              "      <td>0.000</td>\n",
              "    </tr>\n",
              "    <tr>\n",
              "      <th>min</th>\n",
              "      <td>1.0</td>\n",
              "      <td>3056.000000</td>\n",
              "      <td>19.000000</td>\n",
              "      <td>673.740000</td>\n",
              "      <td>1.031000e+06</td>\n",
              "      <td>5342.000000</td>\n",
              "      <td>58064.0</td>\n",
              "      <td>6.412702e-02</td>\n",
              "      <td>128.0</td>\n",
              "      <td>6.400000e-02</td>\n",
              "      <td>2.204464e-03</td>\n",
              "      <td>453.625</td>\n",
              "    </tr>\n",
              "    <tr>\n",
              "      <th>25%</th>\n",
              "      <td>1.0</td>\n",
              "      <td>135811.500000</td>\n",
              "      <td>32.000000</td>\n",
              "      <td>1685.177500</td>\n",
              "      <td>1.997838e+07</td>\n",
              "      <td>238411.000000</td>\n",
              "      <td>58064.0</td>\n",
              "      <td>6.412702e-02</td>\n",
              "      <td>128.0</td>\n",
              "      <td>6.400000e-02</td>\n",
              "      <td>2.204464e-03</td>\n",
              "      <td>453.625</td>\n",
              "    </tr>\n",
              "    <tr>\n",
              "      <th>50%</th>\n",
              "      <td>1.0</td>\n",
              "      <td>281722.500000</td>\n",
              "      <td>39.000000</td>\n",
              "      <td>2877.145000</td>\n",
              "      <td>6.492500e+07</td>\n",
              "      <td>491520.500000</td>\n",
              "      <td>58064.0</td>\n",
              "      <td>6.412702e-02</td>\n",
              "      <td>128.0</td>\n",
              "      <td>6.400000e-02</td>\n",
              "      <td>2.204464e-03</td>\n",
              "      <td>453.625</td>\n",
              "    </tr>\n",
              "    <tr>\n",
              "      <th>75%</th>\n",
              "      <td>1.0</td>\n",
              "      <td>379624.250000</td>\n",
              "      <td>50.000000</td>\n",
              "      <td>5097.292500</td>\n",
              "      <td>7.700305e+07</td>\n",
              "      <td>664279.000000</td>\n",
              "      <td>58064.0</td>\n",
              "      <td>6.412702e-02</td>\n",
              "      <td>128.0</td>\n",
              "      <td>6.400000e-02</td>\n",
              "      <td>2.204464e-03</td>\n",
              "      <td>453.625</td>\n",
              "    </tr>\n",
              "    <tr>\n",
              "      <th>max</th>\n",
              "      <td>1.0</td>\n",
              "      <td>509369.000000</td>\n",
              "      <td>70.000000</td>\n",
              "      <td>18741.240000</td>\n",
              "      <td>9.681017e+07</td>\n",
              "      <td>887580.000000</td>\n",
              "      <td>58064.0</td>\n",
              "      <td>6.412702e-02</td>\n",
              "      <td>128.0</td>\n",
              "      <td>6.400000e-02</td>\n",
              "      <td>2.204464e-03</td>\n",
              "      <td>453.625</td>\n",
              "    </tr>\n",
              "  </tbody>\n",
              "</table>\n",
              "</div>"
            ],
            "text/plain": [
              "       IN_PROTEGIDO     ID_CLIENTE  ...  SelectionProb  SamplingWeight\n",
              "count         128.0     128.000000  ...   1.280000e+02         128.000\n",
              "mean            1.0  268269.351562  ...   2.204464e-03         453.625\n",
              "std             0.0  139729.449828  ...   1.741540e-18           0.000\n",
              "min             1.0    3056.000000  ...   2.204464e-03         453.625\n",
              "25%             1.0  135811.500000  ...   2.204464e-03         453.625\n",
              "50%             1.0  281722.500000  ...   2.204464e-03         453.625\n",
              "75%             1.0  379624.250000  ...   2.204464e-03         453.625\n",
              "max             1.0  509369.000000  ...   2.204464e-03         453.625\n",
              "\n",
              "[8 rows x 12 columns]"
            ]
          },
          "metadata": {
            "tags": []
          },
          "execution_count": 713
        }
      ]
    },
    {
      "cell_type": "markdown",
      "metadata": {
        "id": "CPLHa9FJyu8e",
        "colab_type": "text"
      },
      "source": [
        "### Pré-processamento dos dados"
      ]
    },
    {
      "cell_type": "code",
      "metadata": {
        "id": "tgj-fny9yyrA",
        "colab_type": "code",
        "colab": {}
      },
      "source": [
        "#Substituindo os valores zerados de renda líquida pela média da coluna, a fim de evitar vieses na análise\n",
        "\n",
        "df.renda_liquida = df.renda_liquida.fillna(df.renda_liquida.mean())"
      ],
      "execution_count": 0,
      "outputs": []
    },
    {
      "cell_type": "code",
      "metadata": {
        "id": "CMLLAK_TrJ7l",
        "colab_type": "code",
        "colab": {
          "base_uri": "https://localhost:8080/",
          "height": 365
        },
        "outputId": "73edf86e-09ae-4c95-8468-109f760bbb7a"
      },
      "source": [
        "df.estado_civil = df.estado_civil.astype(str)\n",
        "df.loc[df['estado_civil'].str.contains('Casado'), 'estado_civil'] = 'casado'\n",
        "df.head()"
      ],
      "execution_count": 715,
      "outputs": [
        {
          "output_type": "execute_result",
          "data": {
            "text/html": [
              "<div>\n",
              "<style scoped>\n",
              "    .dataframe tbody tr th:only-of-type {\n",
              "        vertical-align: middle;\n",
              "    }\n",
              "\n",
              "    .dataframe tbody tr th {\n",
              "        vertical-align: top;\n",
              "    }\n",
              "\n",
              "    .dataframe thead th {\n",
              "        text-align: right;\n",
              "    }\n",
              "</style>\n",
              "<table border=\"1\" class=\"dataframe\">\n",
              "  <thead>\n",
              "    <tr style=\"text-align: right;\">\n",
              "      <th></th>\n",
              "      <th>IN_PROTEGIDO</th>\n",
              "      <th>ID_CLIENTE</th>\n",
              "      <th>IDADE</th>\n",
              "      <th>estado_civil</th>\n",
              "      <th>grau_instrucao</th>\n",
              "      <th>renda_liquida</th>\n",
              "      <th>CEP</th>\n",
              "      <th>REGIAO</th>\n",
              "      <th>uf</th>\n",
              "      <th>municipio</th>\n",
              "      <th>bairro</th>\n",
              "      <th>ID_CDC</th>\n",
              "      <th>LINHA_CDC</th>\n",
              "      <th>CANAL_CDC</th>\n",
              "      <th>VALOR_CDC</th>\n",
              "      <th>VALOR_PARCELA</th>\n",
              "      <th>VALOR_PREMIO</th>\n",
              "      <th>BENEFICIARIO_SEGURO</th>\n",
              "      <th>Total</th>\n",
              "      <th>AllocProportion</th>\n",
              "      <th>SampleSize</th>\n",
              "      <th>ActualProportion</th>\n",
              "      <th>SelectionProb</th>\n",
              "      <th>SamplingWeight</th>\n",
              "    </tr>\n",
              "  </thead>\n",
              "  <tbody>\n",
              "    <tr>\n",
              "      <th>0</th>\n",
              "      <td>0</td>\n",
              "      <td>779</td>\n",
              "      <td>59</td>\n",
              "      <td>Divorciado</td>\n",
              "      <td>Pos-Graduacao</td>\n",
              "      <td>7678.46</td>\n",
              "      <td>79010600</td>\n",
              "      <td>CENTRO-OESTE</td>\n",
              "      <td>MS</td>\n",
              "      <td>CAMPO GRANDE</td>\n",
              "      <td>CEL ANTONINO</td>\n",
              "      <td>1314</td>\n",
              "      <td>BB CREDITO 13 SALARIO</td>\n",
              "      <td>MOBILE</td>\n",
              "      <td>1.552,23</td>\n",
              "      <td>2.274,76</td>\n",
              "      <td>NaN</td>\n",
              "      <td>NaN</td>\n",
              "      <td>847389</td>\n",
              "      <td>0.935873</td>\n",
              "      <td>1872</td>\n",
              "      <td>0.936</td>\n",
              "      <td>0.002209</td>\n",
              "      <td>452.665064</td>\n",
              "    </tr>\n",
              "    <tr>\n",
              "      <th>1</th>\n",
              "      <td>0</td>\n",
              "      <td>827</td>\n",
              "      <td>64</td>\n",
              "      <td>Solteiro</td>\n",
              "      <td>Segundo Grau</td>\n",
              "      <td>8564.43</td>\n",
              "      <td>79010600</td>\n",
              "      <td>CENTRO-OESTE</td>\n",
              "      <td>MS</td>\n",
              "      <td>CAMPO GRANDE</td>\n",
              "      <td>CEL ANTONINO</td>\n",
              "      <td>1398</td>\n",
              "      <td>BB CREDITO 13 SALARIO</td>\n",
              "      <td>MOBILE</td>\n",
              "      <td>3.239,82</td>\n",
              "      <td>4.265,70</td>\n",
              "      <td>NaN</td>\n",
              "      <td>NaN</td>\n",
              "      <td>847389</td>\n",
              "      <td>0.935873</td>\n",
              "      <td>1872</td>\n",
              "      <td>0.936</td>\n",
              "      <td>0.002209</td>\n",
              "      <td>452.665064</td>\n",
              "    </tr>\n",
              "    <tr>\n",
              "      <th>2</th>\n",
              "      <td>0</td>\n",
              "      <td>1424</td>\n",
              "      <td>50</td>\n",
              "      <td>Solteiro</td>\n",
              "      <td>Superior Completo</td>\n",
              "      <td>5424.71</td>\n",
              "      <td>87970000</td>\n",
              "      <td>SUL</td>\n",
              "      <td>PR</td>\n",
              "      <td>NOVA LONDRINA</td>\n",
              "      <td>CENTRO</td>\n",
              "      <td>2517</td>\n",
              "      <td>BB CREDITO PARCELAMENTO CHEQUE ESPECIAL</td>\n",
              "      <td>MOBILE</td>\n",
              "      <td>986,92</td>\n",
              "      <td>368,72</td>\n",
              "      <td>NaN</td>\n",
              "      <td>NaN</td>\n",
              "      <td>847389</td>\n",
              "      <td>0.935873</td>\n",
              "      <td>1872</td>\n",
              "      <td>0.936</td>\n",
              "      <td>0.002209</td>\n",
              "      <td>452.665064</td>\n",
              "    </tr>\n",
              "    <tr>\n",
              "      <th>3</th>\n",
              "      <td>0</td>\n",
              "      <td>1936</td>\n",
              "      <td>46</td>\n",
              "      <td>casado</td>\n",
              "      <td>Pos-Graduacao</td>\n",
              "      <td>3102.33</td>\n",
              "      <td>87013050</td>\n",
              "      <td>SUL</td>\n",
              "      <td>PR</td>\n",
              "      <td>MARINGA</td>\n",
              "      <td>ZONA 01</td>\n",
              "      <td>3401</td>\n",
              "      <td>BB CREDITO SALARIO FUNCI</td>\n",
              "      <td>MOBILE</td>\n",
              "      <td>2.622,04</td>\n",
              "      <td>44,89</td>\n",
              "      <td>NaN</td>\n",
              "      <td>NaN</td>\n",
              "      <td>847389</td>\n",
              "      <td>0.935873</td>\n",
              "      <td>1872</td>\n",
              "      <td>0.936</td>\n",
              "      <td>0.002209</td>\n",
              "      <td>452.665064</td>\n",
              "    </tr>\n",
              "    <tr>\n",
              "      <th>4</th>\n",
              "      <td>0</td>\n",
              "      <td>2414</td>\n",
              "      <td>33</td>\n",
              "      <td>casado</td>\n",
              "      <td>Primeiro Grau</td>\n",
              "      <td>1310.21</td>\n",
              "      <td>37948000</td>\n",
              "      <td>SUDESTE</td>\n",
              "      <td>MG</td>\n",
              "      <td>BOM JESUS DA PENHA</td>\n",
              "      <td>CENTRO</td>\n",
              "      <td>4246</td>\n",
              "      <td>BB CREDITO 13 SALARIO</td>\n",
              "      <td>MOBILE</td>\n",
              "      <td>118,38</td>\n",
              "      <td>167,58</td>\n",
              "      <td>NaN</td>\n",
              "      <td>NaN</td>\n",
              "      <td>847389</td>\n",
              "      <td>0.935873</td>\n",
              "      <td>1872</td>\n",
              "      <td>0.936</td>\n",
              "      <td>0.002209</td>\n",
              "      <td>452.665064</td>\n",
              "    </tr>\n",
              "  </tbody>\n",
              "</table>\n",
              "</div>"
            ],
            "text/plain": [
              "   IN_PROTEGIDO  ID_CLIENTE  ...  SelectionProb SamplingWeight\n",
              "0             0         779  ...       0.002209     452.665064\n",
              "1             0         827  ...       0.002209     452.665064\n",
              "2             0        1424  ...       0.002209     452.665064\n",
              "3             0        1936  ...       0.002209     452.665064\n",
              "4             0        2414  ...       0.002209     452.665064\n",
              "\n",
              "[5 rows x 24 columns]"
            ]
          },
          "metadata": {
            "tags": []
          },
          "execution_count": 715
        }
      ]
    },
    {
      "cell_type": "code",
      "metadata": {
        "id": "Nb5KaBN7zZXP",
        "colab_type": "code",
        "colab": {
          "base_uri": "https://localhost:8080/",
          "height": 451
        },
        "outputId": "189dfe73-0641-48a5-d519-153562bfd07f"
      },
      "source": [
        "# Verificando valores faltantes\n",
        "df.isnull().sum()"
      ],
      "execution_count": 716,
      "outputs": [
        {
          "output_type": "execute_result",
          "data": {
            "text/plain": [
              "IN_PROTEGIDO              0\n",
              "ID_CLIENTE                0\n",
              "IDADE                     0\n",
              "estado_civil              0\n",
              "grau_instrucao           21\n",
              "renda_liquida             0\n",
              "CEP                       0\n",
              "REGIAO                    0\n",
              "uf                        0\n",
              "municipio                 0\n",
              "bairro                    0\n",
              "ID_CDC                    0\n",
              "LINHA_CDC                 0\n",
              "CANAL_CDC                 0\n",
              "VALOR_CDC                 0\n",
              "VALOR_PARCELA             0\n",
              "VALOR_PREMIO           1872\n",
              "BENEFICIARIO_SEGURO    1872\n",
              "Total                     0\n",
              "AllocProportion           0\n",
              "SampleSize                0\n",
              "ActualProportion          0\n",
              "SelectionProb             0\n",
              "SamplingWeight            0\n",
              "dtype: int64"
            ]
          },
          "metadata": {
            "tags": []
          },
          "execution_count": 716
        }
      ]
    },
    {
      "cell_type": "code",
      "metadata": {
        "id": "LHQq1MIzz1uc",
        "colab_type": "code",
        "colab": {}
      },
      "source": [
        "# Preenchendo valores faltantes de 'estado_civil' e 'grau_instrucao' com a moda\n",
        "\n",
        "df['estado_civil'].fillna(df['estado_civil'].mode()[0], inplace=True)\n",
        "df['grau_instrucao'].fillna(df['grau_instrucao'].mode()[0], inplace=True)\n",
        "df.VALOR_PREMIO = df.VALOR_PREMIO.fillna(0)"
      ],
      "execution_count": 0,
      "outputs": []
    },
    {
      "cell_type": "code",
      "metadata": {
        "id": "S5CwF12b4GGP",
        "colab_type": "code",
        "colab": {
          "base_uri": "https://localhost:8080/",
          "height": 451
        },
        "outputId": "7650c0b2-3036-4ba1-836b-8bee0eb29543"
      },
      "source": [
        "# Verificando se ainda há valores faltantes\n",
        "\n",
        "df.isnull().sum()"
      ],
      "execution_count": 718,
      "outputs": [
        {
          "output_type": "execute_result",
          "data": {
            "text/plain": [
              "IN_PROTEGIDO              0\n",
              "ID_CLIENTE                0\n",
              "IDADE                     0\n",
              "estado_civil              0\n",
              "grau_instrucao            0\n",
              "renda_liquida             0\n",
              "CEP                       0\n",
              "REGIAO                    0\n",
              "uf                        0\n",
              "municipio                 0\n",
              "bairro                    0\n",
              "ID_CDC                    0\n",
              "LINHA_CDC                 0\n",
              "CANAL_CDC                 0\n",
              "VALOR_CDC                 0\n",
              "VALOR_PARCELA             0\n",
              "VALOR_PREMIO              0\n",
              "BENEFICIARIO_SEGURO    1872\n",
              "Total                     0\n",
              "AllocProportion           0\n",
              "SampleSize                0\n",
              "ActualProportion          0\n",
              "SelectionProb             0\n",
              "SamplingWeight            0\n",
              "dtype: int64"
            ]
          },
          "metadata": {
            "tags": []
          },
          "execution_count": 718
        }
      ]
    },
    {
      "cell_type": "code",
      "metadata": {
        "id": "-OpEqsTB7A7m",
        "colab_type": "code",
        "colab": {}
      },
      "source": [
        "# Reduzindo variaveis do dataframe\n",
        "\n",
        "del df['CEP']\n",
        "del df['ID_CDC']\n",
        "del df['REGIAO']\n",
        "del df['municipio']\n",
        "del df['bairro']\n",
        "del df['CANAL_CDC']\n",
        "del df['BENEFICIARIO_SEGURO']\n",
        "del df['Total']\n",
        "del df['AllocProportion']\n",
        "del df['SampleSize']\n",
        "del df['ActualProportion']\n",
        "del df['SelectionProb']\n",
        "del df['SamplingWeight']\n",
        "del df['ID_CLIENTE']"
      ],
      "execution_count": 0,
      "outputs": []
    },
    {
      "cell_type": "code",
      "metadata": {
        "id": "VZKkWM6w8gSz",
        "colab_type": "code",
        "colab": {}
      },
      "source": [
        "# Substituindo variáveis textuais por numéricas\n",
        "label_encoder = preprocessing.LabelEncoder()\n",
        "\n",
        "df.estado_civil = label_encoder.fit_transform(df.estado_civil)\n",
        "df.grau_instrucao = label_encoder.fit_transform(df.grau_instrucao)\n",
        "df.uf = label_encoder.fit_transform(df.uf)\n",
        "df['LINHA_CDC'] = label_encoder.fit_transform(df['LINHA_CDC'])"
      ],
      "execution_count": 0,
      "outputs": []
    },
    {
      "cell_type": "code",
      "metadata": {
        "id": "a-SFf50L_QYR",
        "colab_type": "code",
        "colab": {}
      },
      "source": [
        "# Transformando valores monetários de string para float\n",
        "\n",
        "df.VALOR_CDC = df.VALOR_CDC.str.replace('.','')\n",
        "df.VALOR_CDC = df.VALOR_CDC.str.replace(',','.')\n",
        "df.VALOR_CDC = df.VALOR_CDC.astype(float)\n",
        "\n",
        "df.VALOR_PARCELA = df.VALOR_PARCELA.str.replace('.','')\n",
        "df.VALOR_PARCELA = df.VALOR_PARCELA.str.replace(',','.')\n",
        "df.VALOR_PARCELA = df.VALOR_PARCELA.astype(float)\n",
        "\n",
        "df.VALOR_PREMIO = df.VALOR_PREMIO.str.replace('.','')\n",
        "df.VALOR_PREMIO = df.VALOR_PREMIO.str.replace(',','.')\n",
        "df.VALOR_PREMIO = df.VALOR_PREMIO.astype(float)"
      ],
      "execution_count": 0,
      "outputs": []
    },
    {
      "cell_type": "code",
      "metadata": {
        "id": "klL5dPVkEGE-",
        "colab_type": "code",
        "colab": {}
      },
      "source": [
        "# Separando a coluna de label e valor do prêmio do restante do dataframe\n",
        "X = df.drop(columns=['IN_PROTEGIDO','VALOR_PREMIO'])\n",
        "y = df['IN_PROTEGIDO']"
      ],
      "execution_count": 0,
      "outputs": []
    },
    {
      "cell_type": "code",
      "metadata": {
        "id": "aATL6wsdDI0d",
        "colab_type": "code",
        "colab": {}
      },
      "source": [
        "# Transformando variáveis categóricas em vetores e acrescentando as novas \n",
        "# colunas ao dataframe\n",
        "a = pd.get_dummies(df[\"estado_civil\"],prefix=\"estado_civil\")\n",
        "                   \n",
        "frames = [X, a,]\n",
        "X = pd.concat(frames, axis = 1)\n",
        "X = X.drop(columns = ['estado_civil', 'grau_instrucao', 'uf','IDADE'])"
      ],
      "execution_count": 0,
      "outputs": []
    },
    {
      "cell_type": "code",
      "metadata": {
        "id": "Ds58y3KFEcLY",
        "colab_type": "code",
        "colab": {
          "base_uri": "https://localhost:8080/",
          "height": 86
        },
        "outputId": "984cc578-3788-4e16-cad6-33bb2e5d6d86"
      },
      "source": [
        "X.columns"
      ],
      "execution_count": 724,
      "outputs": [
        {
          "output_type": "execute_result",
          "data": {
            "text/plain": [
              "Index(['renda_liquida', 'LINHA_CDC', 'VALOR_CDC', 'VALOR_PARCELA',\n",
              "       'estado_civil_0', 'estado_civil_1', 'estado_civil_2', 'estado_civil_3',\n",
              "       'estado_civil_4', 'estado_civil_5'],\n",
              "      dtype='object')"
            ]
          },
          "metadata": {
            "tags": []
          },
          "execution_count": 724
        }
      ]
    },
    {
      "cell_type": "code",
      "metadata": {
        "id": "aA1CSHbbFG4o",
        "colab_type": "code",
        "colab": {
          "base_uri": "https://localhost:8080/",
          "height": 206
        },
        "outputId": "b5f25a13-22df-456d-a7c2-0fcdce5c2fd6"
      },
      "source": [
        "# Normalização dos dados para que todas as entradas fiquem entre 0 e 1\n",
        "X = (X - np.min(X)) / (np.max(X) - np.min(X)).values\n",
        "X.head()"
      ],
      "execution_count": 725,
      "outputs": [
        {
          "output_type": "execute_result",
          "data": {
            "text/html": [
              "<div>\n",
              "<style scoped>\n",
              "    .dataframe tbody tr th:only-of-type {\n",
              "        vertical-align: middle;\n",
              "    }\n",
              "\n",
              "    .dataframe tbody tr th {\n",
              "        vertical-align: top;\n",
              "    }\n",
              "\n",
              "    .dataframe thead th {\n",
              "        text-align: right;\n",
              "    }\n",
              "</style>\n",
              "<table border=\"1\" class=\"dataframe\">\n",
              "  <thead>\n",
              "    <tr style=\"text-align: right;\">\n",
              "      <th></th>\n",
              "      <th>renda_liquida</th>\n",
              "      <th>LINHA_CDC</th>\n",
              "      <th>VALOR_CDC</th>\n",
              "      <th>VALOR_PARCELA</th>\n",
              "      <th>estado_civil_0</th>\n",
              "      <th>estado_civil_1</th>\n",
              "      <th>estado_civil_2</th>\n",
              "      <th>estado_civil_3</th>\n",
              "      <th>estado_civil_4</th>\n",
              "      <th>estado_civil_5</th>\n",
              "    </tr>\n",
              "  </thead>\n",
              "  <tbody>\n",
              "    <tr>\n",
              "      <th>0</th>\n",
              "      <td>0.099813</td>\n",
              "      <td>0.090909</td>\n",
              "      <td>0.006622</td>\n",
              "      <td>0.090916</td>\n",
              "      <td>1.0</td>\n",
              "      <td>0.0</td>\n",
              "      <td>0.0</td>\n",
              "      <td>0.0</td>\n",
              "      <td>0.0</td>\n",
              "      <td>0.0</td>\n",
              "    </tr>\n",
              "    <tr>\n",
              "      <th>1</th>\n",
              "      <td>0.111330</td>\n",
              "      <td>0.090909</td>\n",
              "      <td>0.014321</td>\n",
              "      <td>0.170678</td>\n",
              "      <td>0.0</td>\n",
              "      <td>0.0</td>\n",
              "      <td>1.0</td>\n",
              "      <td>0.0</td>\n",
              "      <td>0.0</td>\n",
              "      <td>0.0</td>\n",
              "    </tr>\n",
              "    <tr>\n",
              "      <th>2</th>\n",
              "      <td>0.070516</td>\n",
              "      <td>0.454545</td>\n",
              "      <td>0.004043</td>\n",
              "      <td>0.014555</td>\n",
              "      <td>0.0</td>\n",
              "      <td>0.0</td>\n",
              "      <td>1.0</td>\n",
              "      <td>0.0</td>\n",
              "      <td>0.0</td>\n",
              "      <td>0.0</td>\n",
              "    </tr>\n",
              "    <tr>\n",
              "      <th>3</th>\n",
              "      <td>0.040327</td>\n",
              "      <td>0.818182</td>\n",
              "      <td>0.011503</td>\n",
              "      <td>0.001581</td>\n",
              "      <td>0.0</td>\n",
              "      <td>0.0</td>\n",
              "      <td>0.0</td>\n",
              "      <td>0.0</td>\n",
              "      <td>1.0</td>\n",
              "      <td>0.0</td>\n",
              "    </tr>\n",
              "    <tr>\n",
              "      <th>4</th>\n",
              "      <td>0.017032</td>\n",
              "      <td>0.090909</td>\n",
              "      <td>0.000080</td>\n",
              "      <td>0.006497</td>\n",
              "      <td>0.0</td>\n",
              "      <td>0.0</td>\n",
              "      <td>0.0</td>\n",
              "      <td>0.0</td>\n",
              "      <td>1.0</td>\n",
              "      <td>0.0</td>\n",
              "    </tr>\n",
              "  </tbody>\n",
              "</table>\n",
              "</div>"
            ],
            "text/plain": [
              "   renda_liquida  LINHA_CDC  ...  estado_civil_4  estado_civil_5\n",
              "0       0.099813   0.090909  ...             0.0             0.0\n",
              "1       0.111330   0.090909  ...             0.0             0.0\n",
              "2       0.070516   0.454545  ...             0.0             0.0\n",
              "3       0.040327   0.818182  ...             1.0             0.0\n",
              "4       0.017032   0.090909  ...             1.0             0.0\n",
              "\n",
              "[5 rows x 10 columns]"
            ]
          },
          "metadata": {
            "tags": []
          },
          "execution_count": 725
        }
      ]
    },
    {
      "cell_type": "markdown",
      "metadata": {
        "id": "dvwXbpQoE0ag",
        "colab_type": "text"
      },
      "source": [
        "### Algorítimos de aprendizagem de máquina"
      ]
    },
    {
      "cell_type": "code",
      "metadata": {
        "id": "qsKd7k1dE-RI",
        "colab_type": "code",
        "colab": {}
      },
      "source": [
        "from sklearn.model_selection import train_test_split\n",
        "from sklearn.metrics import confusion_matrix, accuracy_score, precision_score, recall_score, roc_auc_score, roc_curve"
      ],
      "execution_count": 0,
      "outputs": []
    },
    {
      "cell_type": "code",
      "metadata": {
        "id": "--YftU05GZkg",
        "colab_type": "code",
        "colab": {}
      },
      "source": [
        "# Separando grupo de testes e treinamento\n",
        "\n",
        "x_train, x_test, y_train, y_test = train_test_split(X,y,test_size = 0.25)"
      ],
      "execution_count": 0,
      "outputs": []
    },
    {
      "cell_type": "markdown",
      "metadata": {
        "id": "4u74GFsDG7fQ",
        "colab_type": "text"
      },
      "source": [
        "#### Naive Bayes"
      ]
    },
    {
      "cell_type": "code",
      "metadata": {
        "id": "QU5SyHDPHCA-",
        "colab_type": "code",
        "colab": {}
      },
      "source": [
        "from sklearn.naive_bayes import GaussianNB\n",
        "\n",
        "# Escolhendo o modelo\n",
        "model = GaussianNB()\n",
        "# Treinando o modelo com dados de treino\n",
        "model.fit(x_train, y_train)\n",
        "# Predizindo os labels para os dados de teste\n",
        "y_pred = model.predict(x_test)"
      ],
      "execution_count": 0,
      "outputs": []
    },
    {
      "cell_type": "code",
      "metadata": {
        "id": "FjkS9Ul3HMs7",
        "colab_type": "code",
        "colab": {
          "base_uri": "https://localhost:8080/",
          "height": 269
        },
        "outputId": "7eeaeec7-4795-4794-f4a1-1bdf97ce9363"
      },
      "source": [
        "# Métricas\n",
        "\n",
        "# Matriz de confusão\n",
        "cm=confusion_matrix(y_test,y_pred)\n",
        "sns.heatmap(pd.DataFrame(cm),annot=True,cmap=\"Reds\")\n",
        "plt.show()"
      ],
      "execution_count": 729,
      "outputs": [
        {
          "output_type": "display_data",
          "data": {
            "image/png": "[encoded data removed]",
            "text/plain": [
              "<Figure size 432x288 with 2 Axes>"
            ]
          },
          "metadata": {
            "tags": []
          }
        }
      ]
    },
    {
      "cell_type": "code",
      "metadata": {
        "id": "cpMz2aRqHlF_",
        "colab_type": "code",
        "colab": {
          "base_uri": "https://localhost:8080/",
          "height": 34
        },
        "outputId": "b8dd00e8-517c-4ad2-86c2-e0c5506c98ad"
      },
      "source": [
        "accuracy_nb = accuracy_score(y_test, y_pred)\n",
        "print('Acurácia Naive-Bayes: ', accuracy_nb)"
      ],
      "execution_count": 730,
      "outputs": [
        {
          "output_type": "stream",
          "text": [
            "Acurácia Naive-Bayes:  0.186\n"
          ],
          "name": "stdout"
        }
      ]
    },
    {
      "cell_type": "code",
      "metadata": {
        "colab_type": "code",
        "outputId": "c1eef8cd-d86b-4333-e523-0d6296d2c333",
        "id": "3UXOubfZdNth",
        "colab": {
          "base_uri": "https://localhost:8080/",
          "height": 69
        }
      },
      "source": [
        "from sklearn import metrics\n",
        "print(\"Accuracy:\",metrics.accuracy_score(y_test, y_pred))\n",
        "print(\"Precision:\",metrics.precision_score(y_test, y_pred))\n",
        "print(\"Recall:\",metrics.recall_score(y_test, y_pred))"
      ],
      "execution_count": 731,
      "outputs": [
        {
          "output_type": "stream",
          "text": [
            "Accuracy: 0.186\n",
            "Precision: 0.07126436781609195\n",
            "Recall: 0.9117647058823529\n"
          ],
          "name": "stdout"
        }
      ]
    },
    {
      "cell_type": "code",
      "metadata": {
        "colab_type": "code",
        "outputId": "a9c276bc-1b00-48df-b471-702ae3c022ef",
        "id": "hTJyOLgddNt5",
        "colab": {
          "base_uri": "https://localhost:8080/",
          "height": 269
        }
      },
      "source": [
        "y_pred_proba = model.predict_proba(x_test)[::,1]\n",
        "fpr, tpr, _ = metrics.roc_curve(y_test,  y_pred_proba)\n",
        "auc = metrics.roc_auc_score(y_test, y_pred_proba)\n",
        "plt.plot(fpr,tpr,label=\"data 1, auc=\"+str(auc))\n",
        "plt.legend(loc=4)\n",
        "plt.show()"
      ],
      "execution_count": 732,
      "outputs": [
        {
          "output_type": "display_data",
          "data": {
            "image/png": "[encoded data removed]",
            "text/plain": [
              "<Figure size 432x288 with 1 Axes>"
            ]
          },
          "metadata": {
            "tags": []
          }
        }
      ]
    },
    {
      "cell_type": "markdown",
      "metadata": {
        "id": "ORC6EATQ_eFi",
        "colab_type": "text"
      },
      "source": [
        "#### Adaboost"
      ]
    },
    {
      "cell_type": "code",
      "metadata": {
        "id": "KDwLUZd9_f_j",
        "colab_type": "code",
        "colab": {}
      },
      "source": [
        "from sklearn.ensemble import AdaBoostClassifier"
      ],
      "execution_count": 0,
      "outputs": []
    },
    {
      "cell_type": "code",
      "metadata": {
        "id": "_epJCCt4_94Q",
        "colab_type": "code",
        "colab": {}
      },
      "source": [
        "adaboost = AdaBoostClassifier(n_estimators=100, random_state=0)\n",
        "adaboost.fit(x_train,y_train)\n",
        "y_pred = adaboost.predict(x_test)"
      ],
      "execution_count": 0,
      "outputs": []
    },
    {
      "cell_type": "code",
      "metadata": {
        "id": "CCR6ByPj_-cI",
        "colab_type": "code",
        "colab": {
          "base_uri": "https://localhost:8080/",
          "height": 34
        },
        "outputId": "d5b1dfbb-d18a-4ab7-ca35-2bd3028dcbda"
      },
      "source": [
        "accuracy_adaboost = accuracy_score(y_test, y_pred)\n",
        "print('Acurácia AdaBoost: ', accuracy_adaboost)"
      ],
      "execution_count": 735,
      "outputs": [
        {
          "output_type": "stream",
          "text": [
            "Acurácia AdaBoost:  0.932\n"
          ],
          "name": "stdout"
        }
      ]
    },
    {
      "cell_type": "code",
      "metadata": {
        "colab_type": "code",
        "outputId": "df2eac01-7286-46f8-d269-02fa75fdac82",
        "id": "Ljb8VSYMAg91",
        "colab": {
          "base_uri": "https://localhost:8080/",
          "height": 124
        }
      },
      "source": [
        "from sklearn import metrics\n",
        "print(\"Accuracy:\",metrics.accuracy_score(y_test, y_pred))\n",
        "print(\"Precision:\",metrics.precision_score(y_test, y_pred))\n",
        "print(\"Recall:\",metrics.recall_score(y_test, y_pred))"
      ],
      "execution_count": 736,
      "outputs": [
        {
          "output_type": "stream",
          "text": [
            "Accuracy: 0.932\n",
            "Precision: 0.0\n",
            "Recall: 0.0\n"
          ],
          "name": "stdout"
        },
        {
          "output_type": "stream",
          "text": [
            "/usr/local/lib/python3.6/dist-packages/sklearn/metrics/classification.py:1143: UndefinedMetricWarning: Precision is ill-defined and being set to 0.0 due to no predicted samples.\n",
            "  'precision', 'predicted', average, warn_for)\n"
          ],
          "name": "stderr"
        }
      ]
    },
    {
      "cell_type": "code",
      "metadata": {
        "colab_type": "code",
        "outputId": "223d751b-f49d-4c1f-d23b-81feaf7ce54c",
        "id": "pOYsOCbWAg-n",
        "colab": {
          "base_uri": "https://localhost:8080/",
          "height": 269
        }
      },
      "source": [
        "y_pred_proba = adaboost.predict_proba(x_test)[::,1]\n",
        "fpr, tpr, _ = metrics.roc_curve(y_test,  y_pred_proba)\n",
        "auc = metrics.roc_auc_score(y_test, y_pred_proba)\n",
        "plt.plot(fpr,tpr,label=\"data 1, auc=\"+str(auc))\n",
        "plt.legend(loc=4)\n",
        "plt.show()"
      ],
      "execution_count": 737,
      "outputs": [
        {
          "output_type": "display_data",
          "data": {
            "image/png": "[encoded data removed]",
            "text/plain": [
              "<Figure size 432x288 with 1 Axes>"
            ]
          },
          "metadata": {
            "tags": []
          }
        }
      ]
    },
    {
      "cell_type": "markdown",
      "metadata": {
        "id": "p_pcHOghNcU_",
        "colab_type": "text"
      },
      "source": [
        "#### KNN"
      ]
    },
    {
      "cell_type": "code",
      "metadata": {
        "id": "qX60Wq4kNe42",
        "colab_type": "code",
        "colab": {}
      },
      "source": [
        "from sklearn.neighbors import KNeighborsClassifier"
      ],
      "execution_count": 0,
      "outputs": []
    },
    {
      "cell_type": "code",
      "metadata": {
        "id": "wX_Ci40jNosv",
        "colab_type": "code",
        "colab": {}
      },
      "source": [
        "# Escolhendo o modelo\n",
        "knn = KNeighborsClassifier(n_neighbors = 2)\n",
        "# Treinando o modelo com dados de treino\n",
        "knn.fit(x_train, y_train)\n",
        "# Predizindo os labels para os dados de teste\n",
        "y_pred = knn.predict(x_test)"
      ],
      "execution_count": 0,
      "outputs": []
    },
    {
      "cell_type": "code",
      "metadata": {
        "id": "Y2J4Q5YJNq2D",
        "colab_type": "code",
        "colab": {
          "base_uri": "https://localhost:8080/",
          "height": 269
        },
        "outputId": "d1832ff5-0a01-44f0-a90d-86f743359cea"
      },
      "source": [
        "# Matriz de confusão\n",
        "cm=confusion_matrix(y_test,y_pred)\n",
        "sns.heatmap(pd.DataFrame(cm),annot=True,cmap=\"Reds\")\n",
        "plt.show()"
      ],
      "execution_count": 740,
      "outputs": [
        {
          "output_type": "display_data",
          "data": {
            "image/png": "[encoded data removed]",
            "text/plain": [
              "<Figure size 432x288 with 2 Axes>"
            ]
          },
          "metadata": {
            "tags": []
          }
        }
      ]
    },
    {
      "cell_type": "code",
      "metadata": {
        "id": "Yz3wsGM5Nwfi",
        "colab_type": "code",
        "colab": {
          "base_uri": "https://localhost:8080/",
          "height": 34
        },
        "outputId": "6fbb1b98-7bf8-4c91-eb21-6f3ff74b8494"
      },
      "source": [
        "# Acurácia\n",
        "accuracy_knn = accuracy_score(y_test, y_pred)\n",
        "print('Acurácia knn ', accuracy_knn)"
      ],
      "execution_count": 741,
      "outputs": [
        {
          "output_type": "stream",
          "text": [
            "Acurácia knn  0.926\n"
          ],
          "name": "stdout"
        }
      ]
    },
    {
      "cell_type": "code",
      "metadata": {
        "id": "Bo40UVJbN5Ld",
        "colab_type": "code",
        "colab": {
          "base_uri": "https://localhost:8080/",
          "height": 69
        },
        "outputId": "5bb79f67-229f-48fe-ddfd-da7e84ab4e86"
      },
      "source": [
        "from sklearn import metrics\n",
        "print(\"Accuracy:\",metrics.accuracy_score(y_test, y_pred))\n",
        "print(\"Precision:\",metrics.precision_score(y_test, y_pred))\n",
        "print(\"Recall:\",metrics.recall_score(y_test, y_pred))"
      ],
      "execution_count": 742,
      "outputs": [
        {
          "output_type": "stream",
          "text": [
            "Accuracy: 0.926\n",
            "Precision: 0.2857142857142857\n",
            "Recall: 0.058823529411764705\n"
          ],
          "name": "stdout"
        }
      ]
    },
    {
      "cell_type": "code",
      "metadata": {
        "id": "QjYZ-C9GN2Xh",
        "colab_type": "code",
        "colab": {
          "base_uri": "https://localhost:8080/",
          "height": 269
        },
        "outputId": "7983477c-e143-4bb7-953f-8eb907629d03"
      },
      "source": [
        "y_pred_proba = mlp.predict_proba(x_test)[::,1]\n",
        "fpr, tpr, _ = metrics.roc_curve(y_test,  y_pred_proba)\n",
        "auc = metrics.roc_auc_score(y_test, y_pred_proba)\n",
        "plt.plot(fpr,tpr,label=\"data 1, auc=\"+str(auc))\n",
        "plt.legend(loc=4)\n",
        "plt.show()"
      ],
      "execution_count": 743,
      "outputs": [
        {
          "output_type": "display_data",
          "data": {
            "image/png": "[encoded data removed]",
            "text/plain": [
              "<Figure size 432x288 with 1 Axes>"
            ]
          },
          "metadata": {
            "tags": []
          }
        }
      ]
    },
    {
      "cell_type": "markdown",
      "metadata": {
        "id": "g7Wn7uUrZB_a",
        "colab_type": "text"
      },
      "source": [
        "#### MLP"
      ]
    },
    {
      "cell_type": "code",
      "metadata": {
        "id": "z2jfeI4wZJOt",
        "colab_type": "code",
        "colab": {}
      },
      "source": [
        "from sklearn.neural_network import MLPClassifier"
      ],
      "execution_count": 0,
      "outputs": []
    },
    {
      "cell_type": "code",
      "metadata": {
        "id": "xxbsH54zZO9I",
        "colab_type": "code",
        "colab": {}
      },
      "source": [
        "# Escolhendo o modelo\n",
        "mlp = MLPClassifier(hidden_layer_sizes=(100,), activation='relu', max_iter=100, alpha=1e-4,\n",
        "                     solver='sgd', tol=1e-4, random_state=1, learning_rate_init=.01)\n",
        "\n",
        "# Treinando o modelo com dados de treino\n",
        "mlp.fit(x_train, y_train)\n",
        "# Predizindo os labels para os dados de teste\n",
        "y_pred = mlp.predict(x_test)"
      ],
      "execution_count": 0,
      "outputs": []
    },
    {
      "cell_type": "code",
      "metadata": {
        "id": "AssJ_fv4ZRmF",
        "colab_type": "code",
        "colab": {
          "base_uri": "https://localhost:8080/",
          "height": 283
        },
        "outputId": "fe9acd46-a1ae-421f-8f39-bfa163510330"
      },
      "source": [
        "# Métricas \n",
        "\n",
        "# Curva de persa\n",
        "loss_values =mlp.loss_curve_\n",
        "plt.plot(loss_values)\n",
        "plt.xlabel(\"n iterações\")\n",
        "plt.ylabel(\"Erro\")\n",
        "plt.show()"
      ],
      "execution_count": 746,
      "outputs": [
        {
          "output_type": "display_data",
          "data": {
            "image/png": "[encoded data removed]",
            "text/plain": [
              "<Figure size 432x288 with 1 Axes>"
            ]
          },
          "metadata": {
            "tags": []
          }
        }
      ]
    },
    {
      "cell_type": "code",
      "metadata": {
        "id": "urWMRUp1ZZjR",
        "colab_type": "code",
        "colab": {
          "base_uri": "https://localhost:8080/",
          "height": 269
        },
        "outputId": "904909c2-5e49-4be8-f9b8-632b0b0543d2"
      },
      "source": [
        "# Matriz de confusão\n",
        "cm=confusion_matrix(y_test,y_pred)\n",
        "sns.heatmap(pd.DataFrame(cm),annot=True,cmap=\"Reds\")\n",
        "plt.show()"
      ],
      "execution_count": 747,
      "outputs": [
        {
          "output_type": "display_data",
          "data": {
            "image/png": "[encoded data removed]",
            "text/plain": [
              "<Figure size 432x288 with 2 Axes>"
            ]
          },
          "metadata": {
            "tags": []
          }
        }
      ]
    },
    {
      "cell_type": "code",
      "metadata": {
        "id": "Yj2VldpCZmG6",
        "colab_type": "code",
        "colab": {
          "base_uri": "https://localhost:8080/",
          "height": 34
        },
        "outputId": "b3ba58f4-5e86-47d6-8418-d7aac8ea0990"
      },
      "source": [
        "# Acurácia\n",
        "accuracy_mlp = accuracy_score(y_test, y_pred)\n",
        "print('Acurácia mlp ', accuracy_mlp)"
      ],
      "execution_count": 748,
      "outputs": [
        {
          "output_type": "stream",
          "text": [
            "Acurácia mlp  0.932\n"
          ],
          "name": "stdout"
        }
      ]
    },
    {
      "cell_type": "code",
      "metadata": {
        "colab_type": "code",
        "outputId": "a7fd0362-f2da-42d8-8a64-e00da8d322cd",
        "id": "6wOSBbNSdJVb",
        "colab": {
          "base_uri": "https://localhost:8080/",
          "height": 124
        }
      },
      "source": [
        "from sklearn import metrics\n",
        "print(\"Accuracy:\",metrics.accuracy_score(y_test, y_pred))\n",
        "print(\"Precision:\",metrics.precision_score(y_test, y_pred))\n",
        "print(\"Recall:\",metrics.recall_score(y_test, y_pred))"
      ],
      "execution_count": 749,
      "outputs": [
        {
          "output_type": "stream",
          "text": [
            "Accuracy: 0.932\n",
            "Precision: 0.0\n",
            "Recall: 0.0\n"
          ],
          "name": "stdout"
        },
        {
          "output_type": "stream",
          "text": [
            "/usr/local/lib/python3.6/dist-packages/sklearn/metrics/classification.py:1143: UndefinedMetricWarning: Precision is ill-defined and being set to 0.0 due to no predicted samples.\n",
            "  'precision', 'predicted', average, warn_for)\n"
          ],
          "name": "stderr"
        }
      ]
    },
    {
      "cell_type": "code",
      "metadata": {
        "colab_type": "code",
        "outputId": "c24a18f9-ab46-4ff0-ee6f-4e52ff9cf606",
        "id": "RwHUKb8WdJWJ",
        "colab": {
          "base_uri": "https://localhost:8080/",
          "height": 269
        }
      },
      "source": [
        "y_pred_proba = mlp.predict_proba(x_test)[::,1]\n",
        "fpr, tpr, _ = metrics.roc_curve(y_test,  y_pred_proba)\n",
        "auc = metrics.roc_auc_score(y_test, y_pred_proba)\n",
        "plt.plot(fpr,tpr,label=\"data 1, auc=\"+str(auc))\n",
        "plt.legend(loc=4)\n",
        "plt.show()"
      ],
      "execution_count": 750,
      "outputs": [
        {
          "output_type": "display_data",
          "data": {
            "image/png": "[encoded data removed]",
            "text/plain": [
              "<Figure size 432x288 with 1 Axes>"
            ]
          },
          "metadata": {
            "tags": []
          }
        }
      ]
    },
    {
      "cell_type": "markdown",
      "metadata": {
        "id": "SEyg8XIXH7j_",
        "colab_type": "text"
      },
      "source": [
        "#### Random Forest"
      ]
    },
    {
      "cell_type": "code",
      "metadata": {
        "id": "hZfvHxF8H-oF",
        "colab_type": "code",
        "colab": {}
      },
      "source": [
        "from sklearn.ensemble import RandomForestClassifier\n",
        "\n",
        "# Saving feature names for later use\n",
        "lista_caracteristicas = list(X.columns)\n",
        "\n",
        "random_forest = RandomForestClassifier(n_estimators=100, max_depth=5)\n",
        "random_forest.fit(x_train,y_train)\n",
        "y_pred = random_forest.predict(x_test)"
      ],
      "execution_count": 0,
      "outputs": []
    },
    {
      "cell_type": "code",
      "metadata": {
        "id": "Vc-ssFhyIUV6",
        "colab_type": "code",
        "colab": {
          "base_uri": "https://localhost:8080/",
          "height": 269
        },
        "outputId": "95f17097-6f33-4a31-f63f-27fa2108dba8"
      },
      "source": [
        "# Métricas\n",
        "\n",
        "# Matriz de confusão\n",
        "cm=confusion_matrix(y_test,y_pred)\n",
        "sns.heatmap(pd.DataFrame(cm),annot=True,cmap=\"Reds\")\n",
        "plt.show()"
      ],
      "execution_count": 752,
      "outputs": [
        {
          "output_type": "display_data",
          "data": {
            "image/png": "[encoded data removed]",
            "text/plain": [
              "<Figure size 432x288 with 2 Axes>"
            ]
          },
          "metadata": {
            "tags": []
          }
        }
      ]
    },
    {
      "cell_type": "code",
      "metadata": {
        "id": "PvM-DE4fIY_I",
        "colab_type": "code",
        "colab": {
          "base_uri": "https://localhost:8080/",
          "height": 34
        },
        "outputId": "ebc456a0-760c-48c6-8a43-e4b43f793ef6"
      },
      "source": [
        "accuracy_random_forest = accuracy_score(y_test, y_pred)\n",
        "print('Acurácia Random Forest: ', accuracy_random_forest)"
      ],
      "execution_count": 753,
      "outputs": [
        {
          "output_type": "stream",
          "text": [
            "Acurácia Random Forest:  0.932\n"
          ],
          "name": "stdout"
        }
      ]
    },
    {
      "cell_type": "code",
      "metadata": {
        "colab_type": "code",
        "outputId": "c7b00847-f164-46c0-eaf7-fd67314f3125",
        "id": "bqXYIy9rdBnV",
        "colab": {
          "base_uri": "https://localhost:8080/",
          "height": 124
        }
      },
      "source": [
        "from sklearn import metrics\n",
        "print(\"Accuracy:\",metrics.accuracy_score(y_test, y_pred))\n",
        "print(\"Precision:\",metrics.precision_score(y_test, y_pred))\n",
        "print(\"Recall:\",metrics.recall_score(y_test, y_pred))"
      ],
      "execution_count": 754,
      "outputs": [
        {
          "output_type": "stream",
          "text": [
            "Accuracy: 0.932\n",
            "Precision: 0.0\n",
            "Recall: 0.0\n"
          ],
          "name": "stdout"
        },
        {
          "output_type": "stream",
          "text": [
            "/usr/local/lib/python3.6/dist-packages/sklearn/metrics/classification.py:1143: UndefinedMetricWarning: Precision is ill-defined and being set to 0.0 due to no predicted samples.\n",
            "  'precision', 'predicted', average, warn_for)\n"
          ],
          "name": "stderr"
        }
      ]
    },
    {
      "cell_type": "code",
      "metadata": {
        "colab_type": "code",
        "outputId": "9864bd25-490b-4651-9ce1-6686ae81fbac",
        "id": "PoYFM9VPdBn3",
        "colab": {
          "base_uri": "https://localhost:8080/",
          "height": 269
        }
      },
      "source": [
        "y_pred_proba = random_forest.predict_proba(x_test)[::,1]\n",
        "fpr, tpr, _ = metrics.roc_curve(y_test,  y_pred_proba)\n",
        "auc = metrics.roc_auc_score(y_test, y_pred_proba)\n",
        "plt.plot(fpr,tpr,label=\"data 1, auc=\"+str(auc))\n",
        "plt.legend(loc=4)\n",
        "plt.show()"
      ],
      "execution_count": 755,
      "outputs": [
        {
          "output_type": "display_data",
          "data": {
            "image/png": "[encoded data removed]",
            "text/plain": [
              "<Figure size 432x288 with 1 Axes>"
            ]
          },
          "metadata": {
            "tags": []
          }
        }
      ]
    },
    {
      "cell_type": "code",
      "metadata": {
        "id": "2Yxjm7XwJ32r",
        "colab_type": "code",
        "colab": {
          "base_uri": "https://localhost:8080/",
          "height": 191
        },
        "outputId": "b3cb7bf8-8e0d-4901-8c77-ebdc4b0a00c7"
      },
      "source": [
        "# Recuperar importância das características\n",
        "importancias = list(random_forest.feature_importances_)\n",
        "\n",
        "# Lista de tuplas com variável e importância\n",
        "feature_importances = [(feature, round(importance, 2)) for feature, importance in zip(lista_caracteristicas, importancias)]\n",
        "\n",
        "# Ordenar as caracteristicas da mais importante para a menos importante\n",
        "feature_importances = sorted(feature_importances, key = lambda x: x[1], reverse = True)\n",
        "\n",
        "# Imprimir características e importâncias\n",
        "[print('Variável: {:20} Importância: {}'.format(*pair)) for pair in feature_importances];"
      ],
      "execution_count": 756,
      "outputs": [
        {
          "output_type": "stream",
          "text": [
            "Variável: VALOR_PARCELA        Importância: 0.3\n",
            "Variável: renda_liquida        Importância: 0.25\n",
            "Variável: VALOR_CDC            Importância: 0.23\n",
            "Variável: LINHA_CDC            Importância: 0.15\n",
            "Variável: estado_civil_2       Importância: 0.02\n",
            "Variável: estado_civil_4       Importância: 0.02\n",
            "Variável: estado_civil_0       Importância: 0.01\n",
            "Variável: estado_civil_1       Importância: 0.01\n",
            "Variável: estado_civil_3       Importância: 0.01\n",
            "Variável: estado_civil_5       Importância: 0.0\n"
          ],
          "name": "stdout"
        }
      ]
    },
    {
      "cell_type": "markdown",
      "metadata": {
        "id": "be5aWNLSLod8",
        "colab_type": "text"
      },
      "source": [
        "#### Regressão Logística"
      ]
    },
    {
      "cell_type": "code",
      "metadata": {
        "id": "MUFlCmN5PEp5",
        "colab_type": "code",
        "colab": {}
      },
      "source": [
        "# Separando a coluna de label e valor do prêmio do restante do dataframe\n",
        "X = df.drop(columns=['IN_PROTEGIDO','VALOR_PREMIO','estado_civil'])\n",
        "y = df['IN_PROTEGIDO']\n",
        "X = (X - np.min(X)) / (np.max(X) - np.min(X)).values"
      ],
      "execution_count": 0,
      "outputs": []
    },
    {
      "cell_type": "code",
      "metadata": {
        "id": "vQJZZXXVL-aR",
        "colab_type": "code",
        "colab": {
          "base_uri": "https://localhost:8080/",
          "height": 469
        },
        "outputId": "978ca4f1-02f2-406f-a736-ae7e6124e48a"
      },
      "source": [
        "mLogit = sm.Logit(y,X)\n",
        "\n",
        "mLogit_res = mLogit.fit()\n",
        "\n",
        "print ('------------------------------------')\n",
        "print ('Regression Summary')\n",
        "print ('------------------------------------')\n",
        "print (mLogit_res.summary())"
      ],
      "execution_count": 758,
      "outputs": [
        {
          "output_type": "stream",
          "text": [
            "Optimization terminated successfully.\n",
            "         Current function value: 0.237716\n",
            "         Iterations 8\n",
            "------------------------------------\n",
            "Regression Summary\n",
            "------------------------------------\n",
            "                           Logit Regression Results                           \n",
            "==============================================================================\n",
            "Dep. Variable:           IN_PROTEGIDO   No. Observations:                 2000\n",
            "Model:                          Logit   Df Residuals:                     1993\n",
            "Method:                           MLE   Df Model:                            6\n",
            "Date:                Tue, 21 May 2019   Pseudo R-squ.:               0.0004998\n",
            "Time:                        19:17:50   Log-Likelihood:                -475.43\n",
            "converged:                       True   LL-Null:                       -475.67\n",
            "                                        LLR p-value:                    0.9981\n",
            "==================================================================================\n",
            "                     coef    std err          z      P>|z|      [0.025      0.975]\n",
            "----------------------------------------------------------------------------------\n",
            "IDADE             -1.2964      0.476     -2.722      0.006      -2.230      -0.363\n",
            "grau_instrucao    -2.7374      0.311     -8.794      0.000      -3.347      -2.127\n",
            "renda_liquida      1.2156      1.993      0.610      0.542      -2.691       5.122\n",
            "uf                -0.4261      0.280     -1.520      0.129      -0.976       0.123\n",
            "LINHA_CDC          0.6123      0.300      2.039      0.041       0.024       1.201\n",
            "VALOR_CDC         -0.4039      1.866     -0.216      0.829      -4.062       3.254\n",
            "VALOR_PARCELA     -5.8287      2.494     -2.337      0.019     -10.718      -0.940\n",
            "==================================================================================\n"
          ],
          "name": "stdout"
        }
      ]
    },
    {
      "cell_type": "code",
      "metadata": {
        "id": "QasVf5TsbaJf",
        "colab_type": "code",
        "colab": {}
      },
      "source": [
        "from sklearn.linear_model import LogisticRegression"
      ],
      "execution_count": 0,
      "outputs": []
    },
    {
      "cell_type": "code",
      "metadata": {
        "colab_type": "code",
        "id": "rrYoPKkpbYCU",
        "colab": {}
      },
      "source": [
        "# Separando a coluna de label e valor do prêmio do restante do dataframe\n",
        "X = df.drop(columns=['IN_PROTEGIDO','VALOR_PREMIO','uf','IDADE'])\n",
        "y = df['IN_PROTEGIDO']\n",
        "X = (X - np.min(X)) / (np.max(X) - np.min(X)).values\n",
        "\n",
        "# Separando grupo de testes e treinamento\n",
        "x_train, x_test, y_train, y_test = train_test_split(X,y,test_size = 0.25)"
      ],
      "execution_count": 0,
      "outputs": []
    },
    {
      "cell_type": "code",
      "metadata": {
        "id": "3JsTsyRlbjrz",
        "colab_type": "code",
        "colab": {
          "base_uri": "https://localhost:8080/",
          "height": 72
        },
        "outputId": "585defc8-02a2-4876-ce15-31a1525ca3b0"
      },
      "source": [
        "logreg = LogisticRegression()\n",
        "logreg.fit(x_train,y_train)\n",
        "y_pred=logreg.predict(x_test)"
      ],
      "execution_count": 761,
      "outputs": [
        {
          "output_type": "stream",
          "text": [
            "/usr/local/lib/python3.6/dist-packages/sklearn/linear_model/logistic.py:433: FutureWarning: Default solver will be changed to 'lbfgs' in 0.22. Specify a solver to silence this warning.\n",
            "  FutureWarning)\n"
          ],
          "name": "stderr"
        }
      ]
    },
    {
      "cell_type": "code",
      "metadata": {
        "id": "FDF13DZ1bsEe",
        "colab_type": "code",
        "colab": {
          "base_uri": "https://localhost:8080/",
          "height": 269
        },
        "outputId": "d57696be-32e5-4dc8-91bf-991c7e91dc12"
      },
      "source": [
        "# Métricas\n",
        "\n",
        "# Matriz de confusão\n",
        "cm=confusion_matrix(y_test,y_pred)\n",
        "sns.heatmap(pd.DataFrame(cm),annot=True,cmap=\"Reds\")\n",
        "plt.show()"
      ],
      "execution_count": 762,
      "outputs": [
        {
          "output_type": "display_data",
          "data": {
            "image/png": "[encoded data removed]",
            "text/plain": [
              "<Figure size 432x288 with 2 Axes>"
            ]
          },
          "metadata": {
            "tags": []
          }
        }
      ]
    },
    {
      "cell_type": "code",
      "metadata": {
        "id": "LP684Vw4cJCh",
        "colab_type": "code",
        "colab": {
          "base_uri": "https://localhost:8080/",
          "height": 124
        },
        "outputId": "28b2778c-be90-49f6-ce94-187856d7abed"
      },
      "source": [
        "from sklearn import metrics\n",
        "print(\"Accuracy:\",metrics.accuracy_score(y_test, y_pred))\n",
        "print(\"Precision:\",metrics.precision_score(y_test, y_pred))\n",
        "print(\"Recall:\",metrics.recall_score(y_test, y_pred))"
      ],
      "execution_count": 763,
      "outputs": [
        {
          "output_type": "stream",
          "text": [
            "Accuracy: 0.936\n",
            "Precision: 0.0\n",
            "Recall: 0.0\n"
          ],
          "name": "stdout"
        },
        {
          "output_type": "stream",
          "text": [
            "/usr/local/lib/python3.6/dist-packages/sklearn/metrics/classification.py:1143: UndefinedMetricWarning: Precision is ill-defined and being set to 0.0 due to no predicted samples.\n",
            "  'precision', 'predicted', average, warn_for)\n"
          ],
          "name": "stderr"
        }
      ]
    },
    {
      "cell_type": "code",
      "metadata": {
        "id": "LvoR4SQVclk5",
        "colab_type": "code",
        "colab": {
          "base_uri": "https://localhost:8080/",
          "height": 269
        },
        "outputId": "c92eef97-86b6-4e92-b832-5954bbacbda2"
      },
      "source": [
        "y_pred_proba = logreg.predict_proba(x_test)[::,1]\n",
        "fpr, tpr, _ = metrics.roc_curve(y_test,  y_pred_proba)\n",
        "auc = metrics.roc_auc_score(y_test, y_pred_proba)\n",
        "plt.plot(fpr,tpr,label=\"data 1, auc=\"+str(auc))\n",
        "plt.legend(loc=4)\n",
        "plt.show()"
      ],
      "execution_count": 764,
      "outputs": [
        {
          "output_type": "display_data",
          "data": {
            "image/png": "[encoded data removed]",
            "text/plain": [
              "<Figure size 432x288 with 1 Axes>"
            ]
          },
          "metadata": {
            "tags": []
          }
        }
      ]
    },
    {
      "cell_type": "markdown",
      "metadata": {
        "id": "tuyyKuOce381",
        "colab_type": "text"
      },
      "source": [
        "\n",
        "###  Conclusão\n"
      ]
    },
    {
      "cell_type": "markdown",
      "metadata": {
        "id": "N8Hq6ZyXiVf2",
        "colab_type": "text"
      },
      "source": [
        "Embora nenhum dos modelos testados tenha sido confiável na sua capacidade de predição para os resultados desejados, pôde-se extrair algumas análises e características a partir do modelo de Random Forest e outros.\n",
        "\n",
        "Os clientes tendem a preferir prêmios mais baixos para contratação do seguro. Os CDCs menores possuem mais chances de terem um seguro aceito no momento de sua contratação e empréstimos com parcelas menores do que R\\$ 1150,00 possuem mais chances de terem seguro vinculado. A renda do cliente e o valor da parcela também influenciam, principalmente sob a ótica do Random Forest.\n",
        "\n",
        "A contratação de seguros, de modo geral, ainda é pensada como \"eu pago para não usar\". Considerando-se a baixa adesão dos clientes a esta forma de seguro, crédito protegido, o ideal seria a melhor divulgação deste seguimento, ainda pouco conhecido dos clientes. Outro ponto a ser levantado seria a inclusão de prêmios (pontos Livelo, por exemplo), mediante a contratação, ou mesmo um abatimento do valor da parcela/taxa de juros.\n",
        "\n",
        "Uma forma de se testar esta nova abordagem seria por meio de teste A/B com diferentes seguimentos de clientes, respeitando as características de propensão à contratação, levantadas acima."
      ]
    }
  ]
}