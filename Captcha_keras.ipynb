{
  "nbformat": 4,
  "nbformat_minor": 0,
  "metadata": {
    "colab": {
      "name": "Captcha-keras.ipynb",
      "version": "0.3.2",
      "provenance": [],
      "collapsed_sections": [],
      "toc_visible": true,
      "include_colab_link": true
    },
    "kernelspec": {
      "name": "python3",
      "display_name": "Python 3"
    },
    "accelerator": "GPU"
  },
  "cells": [
    {
      "cell_type": "markdown",
      "metadata": {
        "id": "view-in-github",
        "colab_type": "text"
      },
      "source": [
        "<a href=\"https://colab.research.google.com/github/peasant87/iesb-deep-learning/blob/master/Captcha_keras.ipynb\" target=\"_parent\"><img src=\"https://colab.research.google.com/assets/colab-badge.svg\" alt=\"Open In Colab\"/></a>"
      ]
    },
    {
      "cell_type": "markdown",
      "metadata": {
        "id": "W0PrwqU63yFn",
        "colab_type": "text"
      },
      "source": [
        "### Importar bibliotecas e definir parametros iniciais"
      ]
    },
    {
      "cell_type": "code",
      "metadata": {
        "id": "W9KfSs7p3raL",
        "colab_type": "code",
        "colab": {}
      },
      "source": [
        "import numpy as np\n",
        "import pandas as pd\n",
        "import matplotlib.pyplot as plt\n",
        "import os\n",
        "from keras import layers, callbacks\n",
        "from keras.models import Model, load_model\n",
        "from keras.preprocessing import image\n",
        "from keras.preprocessing.image import ImageDataGenerator\n",
        "from keras.utils import np_utils, to_categorical\n",
        "\n",
        "import cv2 as cv\n",
        "import string\n",
        "\n",
        "%matplotlib inline"
      ],
      "execution_count": 0,
      "outputs": []
    },
    {
      "cell_type": "markdown",
      "metadata": {
        "id": "cxakq-UX4xvs",
        "colab_type": "text"
      },
      "source": [
        "Definir simbolos possuíveis no captcha (alfabeto e algorítimos de 0 à 9).\n",
        "\n",
        "Definir tamanho da imagem (X,Y,Z)\n",
        "X = Altura\n",
        "Y = Largura\n",
        "Z = Quantidade de canais (RGB = 3, Preto/Branco = 1)"
      ]
    },
    {
      "cell_type": "code",
      "metadata": {
        "id": "KdPYv_SX4Beq",
        "colab_type": "code",
        "colab": {}
      },
      "source": [
        "symbols = string.ascii_lowercase + \"0123456789\"\n",
        "num_symbols = len(symbols)\n",
        "img_shape = (50,200,1)"
      ],
      "execution_count": 0,
      "outputs": []
    },
    {
      "cell_type": "markdown",
      "metadata": {
        "id": "c5qIsUXD6ode",
        "colab_type": "text"
      },
      "source": [
        "### Criar modelo no Keras"
      ]
    },
    {
      "cell_type": "code",
      "metadata": {
        "id": "_E6RJkbD4de9",
        "colab_type": "code",
        "colab": {}
      },
      "source": [
        "def create_model():\n",
        "  img = layers.Input(shape=img_shape)\n",
        "  \n",
        "  conv1 = layers.Conv2D(16,(3,3), padding=\"same\", activation=\"relu\")(img)\n",
        "  mp1 = layers.MaxPooling2D(padding=\"same\")(conv1)\n",
        "  \n",
        "  conv2 = layers.Conv2D(32,(3,3), padding='same', activation='relu')(mp1)\n",
        "  mp2 = layers.MaxPooling2D(padding='same')(conv2)\n",
        "  \n",
        "  conv3 = layers.Conv2D(32,(3,3), padding='same', activation='relu')(mp2)\n",
        "  bn = layers.BatchNormalization()(conv3)\n",
        "  mp3 = layers.MaxPooling2D(padding='same')(bn)\n",
        "  \n",
        "  #criar 5 ramos, cada um trabalhará com uma letra\n",
        "  flat = layers.Flatten()(mp3)\n",
        "  outs = []\n",
        "  for _ in range(5):\n",
        "    dens1 = layers.Dense(64, activation='relu')(flat)\n",
        "    drop = layers.Dropout(0.5)(dens1)\n",
        "    res = layers.Dense(num_symbols, activation='sigmoid')(drop)\n",
        "    \n",
        "    outs.append(res)\n",
        "  \n",
        "  model = Model(img, outs)\n",
        "  model.compile(loss='categorical_crossentropy', optimizer='adam', \n",
        "                metrics=[\"accuracy\"])\n",
        "  return model"
      ],
      "execution_count": 0,
      "outputs": []
    },
    {
      "cell_type": "code",
      "metadata": {
        "id": "1evo3bSw7jQg",
        "colab_type": "code",
        "outputId": "38f6dbd0-58db-435b-8334-61a5aeb52ee7",
        "colab": {
          "base_uri": "https://localhost:8080/",
          "height": 54
        }
      },
      "source": [
        "from google.colab import drive\n",
        "drive.mount('/content/drive')"
      ],
      "execution_count": 34,
      "outputs": [
        {
          "output_type": "stream",
          "text": [
            "Drive already mounted at /content/drive; to attempt to forcibly remount, call drive.mount(\"/content/drive\", force_remount=True).\n"
          ],
          "name": "stdout"
        }
      ]
    },
    {
      "cell_type": "code",
      "metadata": {
        "id": "I8G1jyIb7lW0",
        "colab_type": "code",
        "colab": {}
      },
      "source": [
        "images_path = '/content/drive/My Drive/Colab Notebooks/captcha/samples'"
      ],
      "execution_count": 0,
      "outputs": []
    },
    {
      "cell_type": "code",
      "metadata": {
        "id": "lCo9XW_A9l15",
        "colab_type": "code",
        "colab": {}
      },
      "source": [
        "n_samples = len(os.listdir(images_path))"
      ],
      "execution_count": 0,
      "outputs": []
    },
    {
      "cell_type": "code",
      "metadata": {
        "id": "Wo2wqkIt-pvx",
        "colab_type": "code",
        "outputId": "ed836e05-dc13-45ff-c421-f3212938f076",
        "colab": {
          "base_uri": "https://localhost:8080/",
          "height": 952
        }
      },
      "source": [
        "model = create_model()\n",
        "model.summary()"
      ],
      "execution_count": 38,
      "outputs": [
        {
          "output_type": "stream",
          "text": [
            "__________________________________________________________________________________________________\n",
            "Layer (type)                    Output Shape         Param #     Connected to                     \n",
            "==================================================================================================\n",
            "input_3 (InputLayer)            (None, 50, 200, 1)   0                                            \n",
            "__________________________________________________________________________________________________\n",
            "conv2d_7 (Conv2D)               (None, 50, 200, 16)  160         input_3[0][0]                    \n",
            "__________________________________________________________________________________________________\n",
            "max_pooling2d_7 (MaxPooling2D)  (None, 25, 100, 16)  0           conv2d_7[0][0]                   \n",
            "__________________________________________________________________________________________________\n",
            "conv2d_8 (Conv2D)               (None, 25, 100, 32)  4640        max_pooling2d_7[0][0]            \n",
            "__________________________________________________________________________________________________\n",
            "max_pooling2d_8 (MaxPooling2D)  (None, 13, 50, 32)   0           conv2d_8[0][0]                   \n",
            "__________________________________________________________________________________________________\n",
            "conv2d_9 (Conv2D)               (None, 13, 50, 32)   9248        max_pooling2d_8[0][0]            \n",
            "__________________________________________________________________________________________________\n",
            "batch_normalization_3 (BatchNor (None, 13, 50, 32)   128         conv2d_9[0][0]                   \n",
            "__________________________________________________________________________________________________\n",
            "max_pooling2d_9 (MaxPooling2D)  (None, 7, 25, 32)    0           batch_normalization_3[0][0]      \n",
            "__________________________________________________________________________________________________\n",
            "flatten_3 (Flatten)             (None, 5600)         0           max_pooling2d_9[0][0]            \n",
            "__________________________________________________________________________________________________\n",
            "dense_21 (Dense)                (None, 64)           358464      flatten_3[0][0]                  \n",
            "__________________________________________________________________________________________________\n",
            "dense_23 (Dense)                (None, 64)           358464      flatten_3[0][0]                  \n",
            "__________________________________________________________________________________________________\n",
            "dense_25 (Dense)                (None, 64)           358464      flatten_3[0][0]                  \n",
            "__________________________________________________________________________________________________\n",
            "dense_27 (Dense)                (None, 64)           358464      flatten_3[0][0]                  \n",
            "__________________________________________________________________________________________________\n",
            "dense_29 (Dense)                (None, 64)           358464      flatten_3[0][0]                  \n",
            "__________________________________________________________________________________________________\n",
            "dropout_11 (Dropout)            (None, 64)           0           dense_21[0][0]                   \n",
            "__________________________________________________________________________________________________\n",
            "dropout_12 (Dropout)            (None, 64)           0           dense_23[0][0]                   \n",
            "__________________________________________________________________________________________________\n",
            "dropout_13 (Dropout)            (None, 64)           0           dense_25[0][0]                   \n",
            "__________________________________________________________________________________________________\n",
            "dropout_14 (Dropout)            (None, 64)           0           dense_27[0][0]                   \n",
            "__________________________________________________________________________________________________\n",
            "dropout_15 (Dropout)            (None, 64)           0           dense_29[0][0]                   \n",
            "__________________________________________________________________________________________________\n",
            "dense_22 (Dense)                (None, 36)           2340        dropout_11[0][0]                 \n",
            "__________________________________________________________________________________________________\n",
            "dense_24 (Dense)                (None, 36)           2340        dropout_12[0][0]                 \n",
            "__________________________________________________________________________________________________\n",
            "dense_26 (Dense)                (None, 36)           2340        dropout_13[0][0]                 \n",
            "__________________________________________________________________________________________________\n",
            "dense_28 (Dense)                (None, 36)           2340        dropout_14[0][0]                 \n",
            "__________________________________________________________________________________________________\n",
            "dense_30 (Dense)                (None, 36)           2340        dropout_15[0][0]                 \n",
            "==================================================================================================\n",
            "Total params: 1,818,196\n",
            "Trainable params: 1,818,132\n",
            "Non-trainable params: 64\n",
            "__________________________________________________________________________________________________\n"
          ],
          "name": "stdout"
        }
      ]
    },
    {
      "cell_type": "markdown",
      "metadata": {
        "id": "bq3Eqq-OQiuC",
        "colab_type": "text"
      },
      "source": [
        "### Trabalhando imagens"
      ]
    },
    {
      "cell_type": "markdown",
      "metadata": {
        "id": "SxFKBtUQ4DfU",
        "colab_type": "text"
      },
      "source": [
        "Definir função de pré-processamento\n",
        "Realizar pré-processamento\n",
        "Separar em arquivo de teste e treino"
      ]
    },
    {
      "cell_type": "code",
      "metadata": {
        "id": "eu7GPM7G7VRA",
        "colab_type": "code",
        "colab": {}
      },
      "source": [
        "def preprocess_data():\n",
        "  images = os.listdir(images_path)\n",
        "  n_samples = len(images)\n",
        "  X = np.zeros((n_samples, 50,200,1))\n",
        "  y = np.zeros((5, n_samples, num_symbols))\n",
        "  \n",
        "  for i, pic in enumerate(images):\n",
        "    img = cv.imread(os.path.join(images_path,pic),cv.IMREAD_GRAYSCALE)\n",
        "    pic_target = pic[:-4]\n",
        "    if len(pic_target) < 6:\n",
        "      #definir escala e refatorar imagem\n",
        "      img = img / 255.0\n",
        "      img = np.reshape(img,(50,200,1))\n",
        "      \n",
        "      #definir alvos e codifica-los usando OneHotEncoding\n",
        "      targs = np.zeros((5,num_symbols))\n",
        "      for j,l in enumerate(pic_target):\n",
        "        ind = symbols.find(l)\n",
        "        targs[j,ind] = 1\n",
        "      X[i] = img\n",
        "      y[:,i] = targs\n",
        "  return X,y\n",
        "\n",
        "X,y = preprocess_data()\n",
        "X_train, y_train = X[:970], y[:,:970]\n",
        "X_test, y_test = X[970:], y[:,970:]\n"
      ],
      "execution_count": 0,
      "outputs": []
    },
    {
      "cell_type": "markdown",
      "metadata": {
        "id": "8YM5cegiXSzK",
        "colab_type": "text"
      },
      "source": [
        "### Treinamento e Predição"
      ]
    },
    {
      "cell_type": "markdown",
      "metadata": {
        "id": "dlm9y1aGXmdZ",
        "colab_type": "text"
      },
      "source": [
        "#### Fit"
      ]
    },
    {
      "cell_type": "code",
      "metadata": {
        "id": "ARmE6wgLCzVa",
        "colab_type": "code",
        "outputId": "a152d265-1d61-4828-c5b3-8b911b623762",
        "colab": {
          "base_uri": "https://localhost:8080/",
          "height": 1074
        }
      },
      "source": [
        "epocas = 30\n",
        "\n",
        "hist = model.fit(X_train, [y_train[0], y_train[1], y_train[2],\n",
        "                           y_train[3], y_train[4]], batch_size=32, \n",
        "                 epochs=epocas,verbose=1, validation_split=0.2)"
      ],
      "execution_count": 39,
      "outputs": [
        {
          "output_type": "stream",
          "text": [
            "Train on 776 samples, validate on 194 samples\n",
            "Epoch 1/30\n",
            "776/776 [==============================] - 2s 3ms/step - loss: 17.1446 - dense_22_loss: 3.3073 - dense_24_loss: 3.3963 - dense_26_loss: 3.4781 - dense_28_loss: 3.5293 - dense_30_loss: 3.4336 - dense_22_acc: 0.0451 - dense_24_acc: 0.0541 - dense_26_acc: 0.0477 - dense_28_acc: 0.0438 - dense_30_acc: 0.0709 - val_loss: 16.5986 - val_dense_22_loss: 3.1070 - val_dense_24_loss: 3.2819 - val_dense_26_loss: 3.2603 - val_dense_28_loss: 3.4990 - val_dense_30_loss: 3.4504 - val_dense_22_acc: 0.0567 - val_dense_24_acc: 0.0412 - val_dense_26_acc: 0.0722 - val_dense_28_acc: 0.0000e+00 - val_dense_30_acc: 0.0722\n",
            "Epoch 2/30\n",
            "776/776 [==============================] - 0s 605us/step - loss: 15.9608 - dense_22_loss: 3.0661 - dense_24_loss: 3.1061 - dense_26_loss: 3.2290 - dense_28_loss: 3.3580 - dense_30_loss: 3.2016 - dense_22_acc: 0.0747 - dense_24_acc: 0.0786 - dense_26_acc: 0.0541 - dense_28_acc: 0.0567 - dense_30_acc: 0.0670 - val_loss: 15.3391 - val_dense_22_loss: 2.9282 - val_dense_24_loss: 2.9760 - val_dense_26_loss: 3.0816 - val_dense_28_loss: 3.2394 - val_dense_30_loss: 3.1140 - val_dense_22_acc: 0.1186 - val_dense_24_acc: 0.2629 - val_dense_26_acc: 0.0876 - val_dense_28_acc: 0.0619 - val_dense_30_acc: 0.1289\n",
            "Epoch 3/30\n",
            "776/776 [==============================] - 0s 585us/step - loss: 15.0970 - dense_22_loss: 2.8636 - dense_24_loss: 2.9243 - dense_26_loss: 3.1009 - dense_28_loss: 3.1826 - dense_30_loss: 3.0257 - dense_22_acc: 0.1031 - dense_24_acc: 0.1211 - dense_26_acc: 0.0696 - dense_28_acc: 0.0747 - dense_30_acc: 0.1005 - val_loss: 14.7722 - val_dense_22_loss: 2.7390 - val_dense_24_loss: 2.8945 - val_dense_26_loss: 3.0310 - val_dense_28_loss: 3.1178 - val_dense_30_loss: 2.9899 - val_dense_22_acc: 0.1598 - val_dense_24_acc: 0.2113 - val_dense_26_acc: 0.1186 - val_dense_28_acc: 0.1134 - val_dense_30_acc: 0.0515\n",
            "Epoch 4/30\n",
            "776/776 [==============================] - 0s 575us/step - loss: 14.2259 - dense_22_loss: 2.6396 - dense_24_loss: 2.7286 - dense_26_loss: 2.9404 - dense_28_loss: 3.0227 - dense_30_loss: 2.8946 - dense_22_acc: 0.2049 - dense_24_acc: 0.1933 - dense_26_acc: 0.1108 - dense_28_acc: 0.1044 - dense_30_acc: 0.1044 - val_loss: 13.6416 - val_dense_22_loss: 2.2981 - val_dense_24_loss: 2.6142 - val_dense_26_loss: 2.8784 - val_dense_28_loss: 2.9099 - val_dense_30_loss: 2.9410 - val_dense_22_acc: 0.1649 - val_dense_24_acc: 0.4124 - val_dense_26_acc: 0.1392 - val_dense_28_acc: 0.0722 - val_dense_30_acc: 0.0619\n",
            "Epoch 5/30\n",
            "776/776 [==============================] - 0s 600us/step - loss: 13.2675 - dense_22_loss: 2.3702 - dense_24_loss: 2.5303 - dense_26_loss: 2.8160 - dense_28_loss: 2.8191 - dense_30_loss: 2.7319 - dense_22_acc: 0.2487 - dense_24_acc: 0.2461 - dense_26_acc: 0.1753 - dense_28_acc: 0.1443 - dense_30_acc: 0.1546 - val_loss: 13.0397 - val_dense_22_loss: 2.0707 - val_dense_24_loss: 2.4329 - val_dense_26_loss: 2.8787 - val_dense_28_loss: 2.8101 - val_dense_30_loss: 2.8472 - val_dense_22_acc: 0.3711 - val_dense_24_acc: 0.2577 - val_dense_26_acc: 0.1856 - val_dense_28_acc: 0.1082 - val_dense_30_acc: 0.0825\n",
            "Epoch 6/30\n",
            "776/776 [==============================] - 0s 577us/step - loss: 12.3320 - dense_22_loss: 2.0572 - dense_24_loss: 2.3153 - dense_26_loss: 2.6404 - dense_28_loss: 2.6760 - dense_30_loss: 2.6432 - dense_22_acc: 0.3686 - dense_24_acc: 0.3157 - dense_26_acc: 0.2216 - dense_28_acc: 0.1843 - dense_30_acc: 0.1701 - val_loss: 11.2478 - val_dense_22_loss: 1.3410 - val_dense_24_loss: 1.9631 - val_dense_26_loss: 2.4787 - val_dense_28_loss: 2.6995 - val_dense_30_loss: 2.7655 - val_dense_22_acc: 0.5464 - val_dense_24_acc: 0.4742 - val_dense_26_acc: 0.1598 - val_dense_28_acc: 0.1186 - val_dense_30_acc: 0.1649\n",
            "Epoch 7/30\n",
            "776/776 [==============================] - 0s 603us/step - loss: 10.9989 - dense_22_loss: 1.6932 - dense_24_loss: 1.9692 - dense_26_loss: 2.3362 - dense_28_loss: 2.4928 - dense_30_loss: 2.5075 - dense_22_acc: 0.4485 - dense_24_acc: 0.4227 - dense_26_acc: 0.2500 - dense_28_acc: 0.2126 - dense_30_acc: 0.1933 - val_loss: 9.3769 - val_dense_22_loss: 0.9892 - val_dense_24_loss: 1.4149 - val_dense_26_loss: 2.1711 - val_dense_28_loss: 2.3561 - val_dense_30_loss: 2.4455 - val_dense_22_acc: 0.6856 - val_dense_24_acc: 0.7216 - val_dense_26_acc: 0.3144 - val_dense_28_acc: 0.2268 - val_dense_30_acc: 0.1907\n",
            "Epoch 8/30\n",
            "776/776 [==============================] - 0s 586us/step - loss: 9.8189 - dense_22_loss: 1.3015 - dense_24_loss: 1.6965 - dense_26_loss: 2.1628 - dense_28_loss: 2.3554 - dense_30_loss: 2.3027 - dense_22_acc: 0.6082 - dense_24_acc: 0.5361 - dense_26_acc: 0.3041 - dense_28_acc: 0.2642 - dense_30_acc: 0.2642 - val_loss: 7.8835 - val_dense_22_loss: 0.4747 - val_dense_24_loss: 1.0571 - val_dense_26_loss: 1.8782 - val_dense_28_loss: 2.1639 - val_dense_30_loss: 2.3097 - val_dense_22_acc: 0.8505 - val_dense_24_acc: 0.7010 - val_dense_26_acc: 0.4227 - val_dense_28_acc: 0.3608 - val_dense_30_acc: 0.2680\n",
            "Epoch 9/30\n",
            "776/776 [==============================] - 0s 604us/step - loss: 8.4982 - dense_22_loss: 1.0428 - dense_24_loss: 1.3100 - dense_26_loss: 1.9473 - dense_28_loss: 2.0802 - dense_30_loss: 2.1179 - dense_22_acc: 0.6830 - dense_24_acc: 0.6379 - dense_26_acc: 0.3647 - dense_28_acc: 0.3557 - dense_30_acc: 0.3312 - val_loss: 6.5552 - val_dense_22_loss: 0.2957 - val_dense_24_loss: 0.7475 - val_dense_26_loss: 1.6213 - val_dense_28_loss: 1.9787 - val_dense_30_loss: 1.9120 - val_dense_22_acc: 0.9175 - val_dense_24_acc: 0.8402 - val_dense_26_acc: 0.5722 - val_dense_28_acc: 0.3763 - val_dense_30_acc: 0.3351\n",
            "Epoch 10/30\n",
            "776/776 [==============================] - 0s 580us/step - loss: 7.1654 - dense_22_loss: 0.7589 - dense_24_loss: 1.0266 - dense_26_loss: 1.6513 - dense_28_loss: 1.8815 - dense_30_loss: 1.8472 - dense_22_acc: 0.7732 - dense_24_acc: 0.7345 - dense_26_acc: 0.4742 - dense_28_acc: 0.4072 - dense_30_acc: 0.3879 - val_loss: 5.8435 - val_dense_22_loss: 0.2848 - val_dense_24_loss: 0.6227 - val_dense_26_loss: 1.2981 - val_dense_28_loss: 1.8792 - val_dense_30_loss: 1.7587 - val_dense_22_acc: 0.8969 - val_dense_24_acc: 0.8505 - val_dense_26_acc: 0.5567 - val_dense_28_acc: 0.4742 - val_dense_30_acc: 0.3866\n",
            "Epoch 11/30\n",
            "776/776 [==============================] - 0s 577us/step - loss: 6.2777 - dense_22_loss: 0.6487 - dense_24_loss: 0.8932 - dense_26_loss: 1.5121 - dense_28_loss: 1.6060 - dense_30_loss: 1.6177 - dense_22_acc: 0.8196 - dense_24_acc: 0.7680 - dense_26_acc: 0.5387 - dense_28_acc: 0.5052 - dense_30_acc: 0.4369 - val_loss: 4.6608 - val_dense_22_loss: 0.1654 - val_dense_24_loss: 0.4429 - val_dense_26_loss: 1.1113 - val_dense_28_loss: 1.4665 - val_dense_30_loss: 1.4748 - val_dense_22_acc: 0.9536 - val_dense_24_acc: 0.8763 - val_dense_26_acc: 0.6546 - val_dense_28_acc: 0.5619 - val_dense_30_acc: 0.5000\n",
            "Epoch 12/30\n",
            "776/776 [==============================] - 0s 592us/step - loss: 5.2995 - dense_22_loss: 0.4810 - dense_24_loss: 0.6778 - dense_26_loss: 1.2669 - dense_28_loss: 1.4155 - dense_30_loss: 1.4583 - dense_22_acc: 0.8557 - dense_24_acc: 0.8080 - dense_26_acc: 0.5889 - dense_28_acc: 0.5399 - dense_30_acc: 0.5077 - val_loss: 4.1563 - val_dense_22_loss: 0.1376 - val_dense_24_loss: 0.3982 - val_dense_26_loss: 0.8716 - val_dense_28_loss: 1.3806 - val_dense_30_loss: 1.3683 - val_dense_22_acc: 0.9742 - val_dense_24_acc: 0.8866 - val_dense_26_acc: 0.7062 - val_dense_28_acc: 0.5928 - val_dense_30_acc: 0.5464\n",
            "Epoch 13/30\n",
            "776/776 [==============================] - 0s 594us/step - loss: 4.4740 - dense_22_loss: 0.4173 - dense_24_loss: 0.5729 - dense_26_loss: 1.0333 - dense_28_loss: 1.2269 - dense_30_loss: 1.2236 - dense_22_acc: 0.8789 - dense_24_acc: 0.8028 - dense_26_acc: 0.6688 - dense_28_acc: 0.6314 - dense_30_acc: 0.6173 - val_loss: 3.7777 - val_dense_22_loss: 0.1088 - val_dense_24_loss: 0.3824 - val_dense_26_loss: 0.8160 - val_dense_28_loss: 1.2693 - val_dense_30_loss: 1.2012 - val_dense_22_acc: 0.9639 - val_dense_24_acc: 0.9072 - val_dense_26_acc: 0.7423 - val_dense_28_acc: 0.6289 - val_dense_30_acc: 0.6443\n",
            "Epoch 14/30\n",
            "776/776 [==============================] - 0s 586us/step - loss: 3.8376 - dense_22_loss: 0.3648 - dense_24_loss: 0.4746 - dense_26_loss: 0.9082 - dense_28_loss: 1.0228 - dense_30_loss: 1.0673 - dense_22_acc: 0.8840 - dense_24_acc: 0.8673 - dense_26_acc: 0.7075 - dense_28_acc: 0.6804 - dense_30_acc: 0.6572 - val_loss: 3.3132 - val_dense_22_loss: 0.1158 - val_dense_24_loss: 0.3169 - val_dense_26_loss: 0.7346 - val_dense_28_loss: 1.0947 - val_dense_30_loss: 1.0512 - val_dense_22_acc: 0.9588 - val_dense_24_acc: 0.9381 - val_dense_26_acc: 0.7577 - val_dense_28_acc: 0.6804 - val_dense_30_acc: 0.6804\n",
            "Epoch 15/30\n",
            "776/776 [==============================] - 0s 577us/step - loss: 3.4433 - dense_22_loss: 0.3293 - dense_24_loss: 0.4069 - dense_26_loss: 0.8707 - dense_28_loss: 0.9236 - dense_30_loss: 0.9129 - dense_22_acc: 0.9124 - dense_24_acc: 0.8711 - dense_26_acc: 0.7191 - dense_28_acc: 0.6997 - dense_30_acc: 0.6985 - val_loss: 3.4137 - val_dense_22_loss: 0.0898 - val_dense_24_loss: 0.3854 - val_dense_26_loss: 0.7656 - val_dense_28_loss: 1.1094 - val_dense_30_loss: 1.0635 - val_dense_22_acc: 0.9639 - val_dense_24_acc: 0.9124 - val_dense_26_acc: 0.7887 - val_dense_28_acc: 0.6907 - val_dense_30_acc: 0.7113\n",
            "Epoch 16/30\n",
            "776/776 [==============================] - 0s 590us/step - loss: 2.9982 - dense_22_loss: 0.3001 - dense_24_loss: 0.3531 - dense_26_loss: 0.7515 - dense_28_loss: 0.7370 - dense_30_loss: 0.8565 - dense_22_acc: 0.9149 - dense_24_acc: 0.8892 - dense_26_acc: 0.7590 - dense_28_acc: 0.7603 - dense_30_acc: 0.6907 - val_loss: 3.0189 - val_dense_22_loss: 0.0710 - val_dense_24_loss: 0.3824 - val_dense_26_loss: 0.6867 - val_dense_28_loss: 1.0165 - val_dense_30_loss: 0.8623 - val_dense_22_acc: 0.9639 - val_dense_24_acc: 0.9124 - val_dense_26_acc: 0.8041 - val_dense_28_acc: 0.7062 - val_dense_30_acc: 0.7113\n",
            "Epoch 17/30\n",
            "776/776 [==============================] - 0s 579us/step - loss: 2.5635 - dense_22_loss: 0.2429 - dense_24_loss: 0.2934 - dense_26_loss: 0.6371 - dense_28_loss: 0.6686 - dense_30_loss: 0.7214 - dense_22_acc: 0.9304 - dense_24_acc: 0.9111 - dense_26_acc: 0.7784 - dense_28_acc: 0.7796 - dense_30_acc: 0.7887 - val_loss: 2.6545 - val_dense_22_loss: 0.0621 - val_dense_24_loss: 0.2713 - val_dense_26_loss: 0.6395 - val_dense_28_loss: 0.9107 - val_dense_30_loss: 0.7708 - val_dense_22_acc: 0.9794 - val_dense_24_acc: 0.9278 - val_dense_26_acc: 0.7990 - val_dense_28_acc: 0.7371 - val_dense_30_acc: 0.7938\n",
            "Epoch 18/30\n",
            "776/776 [==============================] - 0s 586us/step - loss: 2.2430 - dense_22_loss: 0.2199 - dense_24_loss: 0.2595 - dense_26_loss: 0.5268 - dense_28_loss: 0.6019 - dense_30_loss: 0.6350 - dense_22_acc: 0.9356 - dense_24_acc: 0.9265 - dense_26_acc: 0.8286 - dense_28_acc: 0.7938 - dense_30_acc: 0.8041 - val_loss: 2.9086 - val_dense_22_loss: 0.1091 - val_dense_24_loss: 0.3411 - val_dense_26_loss: 0.6399 - val_dense_28_loss: 0.9912 - val_dense_30_loss: 0.8272 - val_dense_22_acc: 0.9639 - val_dense_24_acc: 0.9227 - val_dense_26_acc: 0.8144 - val_dense_28_acc: 0.7268 - val_dense_30_acc: 0.7938\n",
            "Epoch 19/30\n",
            "776/776 [==============================] - 0s 573us/step - loss: 2.1390 - dense_22_loss: 0.2031 - dense_24_loss: 0.2359 - dense_26_loss: 0.5222 - dense_28_loss: 0.5439 - dense_30_loss: 0.6338 - dense_22_acc: 0.9330 - dense_24_acc: 0.9343 - dense_26_acc: 0.8312 - dense_28_acc: 0.8235 - dense_30_acc: 0.8028 - val_loss: 2.8826 - val_dense_22_loss: 0.0621 - val_dense_24_loss: 0.3273 - val_dense_26_loss: 0.5809 - val_dense_28_loss: 1.0444 - val_dense_30_loss: 0.8679 - val_dense_22_acc: 0.9742 - val_dense_24_acc: 0.9124 - val_dense_26_acc: 0.8144 - val_dense_28_acc: 0.7371 - val_dense_30_acc: 0.7938\n",
            "Epoch 20/30\n",
            "776/776 [==============================] - 0s 574us/step - loss: 1.8645 - dense_22_loss: 0.1705 - dense_24_loss: 0.2213 - dense_26_loss: 0.5051 - dense_28_loss: 0.5006 - dense_30_loss: 0.4671 - dense_22_acc: 0.9510 - dense_24_acc: 0.9407 - dense_26_acc: 0.8376 - dense_28_acc: 0.8351 - dense_30_acc: 0.8570 - val_loss: 2.7105 - val_dense_22_loss: 0.0617 - val_dense_24_loss: 0.3112 - val_dense_26_loss: 0.5636 - val_dense_28_loss: 0.9838 - val_dense_30_loss: 0.7902 - val_dense_22_acc: 0.9794 - val_dense_24_acc: 0.9330 - val_dense_26_acc: 0.8351 - val_dense_28_acc: 0.7423 - val_dense_30_acc: 0.7938\n",
            "Epoch 21/30\n",
            "776/776 [==============================] - 0s 580us/step - loss: 1.6624 - dense_22_loss: 0.1401 - dense_24_loss: 0.2051 - dense_26_loss: 0.4016 - dense_28_loss: 0.4392 - dense_30_loss: 0.4765 - dense_22_acc: 0.9575 - dense_24_acc: 0.9356 - dense_26_acc: 0.8698 - dense_28_acc: 0.8492 - dense_30_acc: 0.8415 - val_loss: 2.6268 - val_dense_22_loss: 0.1144 - val_dense_24_loss: 0.3065 - val_dense_26_loss: 0.5572 - val_dense_28_loss: 0.9397 - val_dense_30_loss: 0.7090 - val_dense_22_acc: 0.9742 - val_dense_24_acc: 0.9381 - val_dense_26_acc: 0.8402 - val_dense_28_acc: 0.7423 - val_dense_30_acc: 0.8351\n",
            "Epoch 22/30\n",
            "776/776 [==============================] - 0s 586us/step - loss: 1.5559 - dense_22_loss: 0.1497 - dense_24_loss: 0.1782 - dense_26_loss: 0.3514 - dense_28_loss: 0.4421 - dense_30_loss: 0.4346 - dense_22_acc: 0.9549 - dense_24_acc: 0.9420 - dense_26_acc: 0.8802 - dense_28_acc: 0.8647 - dense_30_acc: 0.8686 - val_loss: 2.7207 - val_dense_22_loss: 0.1357 - val_dense_24_loss: 0.3546 - val_dense_26_loss: 0.5103 - val_dense_28_loss: 0.9680 - val_dense_30_loss: 0.7521 - val_dense_22_acc: 0.9742 - val_dense_24_acc: 0.9330 - val_dense_26_acc: 0.8660 - val_dense_28_acc: 0.7784 - val_dense_30_acc: 0.8247\n",
            "Epoch 23/30\n",
            "776/776 [==============================] - 0s 579us/step - loss: 1.5414 - dense_22_loss: 0.1540 - dense_24_loss: 0.1919 - dense_26_loss: 0.3479 - dense_28_loss: 0.4265 - dense_30_loss: 0.4211 - dense_22_acc: 0.9562 - dense_24_acc: 0.9369 - dense_26_acc: 0.8789 - dense_28_acc: 0.8544 - dense_30_acc: 0.8711 - val_loss: 2.6071 - val_dense_22_loss: 0.0495 - val_dense_24_loss: 0.4062 - val_dense_26_loss: 0.4682 - val_dense_28_loss: 0.9272 - val_dense_30_loss: 0.7560 - val_dense_22_acc: 0.9845 - val_dense_24_acc: 0.9227 - val_dense_26_acc: 0.8608 - val_dense_28_acc: 0.7784 - val_dense_30_acc: 0.8402\n",
            "Epoch 24/30\n",
            "776/776 [==============================] - 0s 575us/step - loss: 1.4153 - dense_22_loss: 0.1320 - dense_24_loss: 0.1778 - dense_26_loss: 0.3742 - dense_28_loss: 0.3575 - dense_30_loss: 0.3739 - dense_22_acc: 0.9626 - dense_24_acc: 0.9369 - dense_26_acc: 0.8776 - dense_28_acc: 0.8750 - dense_30_acc: 0.8660 - val_loss: 2.6920 - val_dense_22_loss: 0.0888 - val_dense_24_loss: 0.3464 - val_dense_26_loss: 0.5417 - val_dense_28_loss: 0.9570 - val_dense_30_loss: 0.7581 - val_dense_22_acc: 0.9794 - val_dense_24_acc: 0.9330 - val_dense_26_acc: 0.8299 - val_dense_28_acc: 0.7629 - val_dense_30_acc: 0.8144\n",
            "Epoch 25/30\n",
            "776/776 [==============================] - 0s 593us/step - loss: 1.2846 - dense_22_loss: 0.1212 - dense_24_loss: 0.1634 - dense_26_loss: 0.3130 - dense_28_loss: 0.3626 - dense_30_loss: 0.3244 - dense_22_acc: 0.9613 - dense_24_acc: 0.9575 - dense_26_acc: 0.8943 - dense_28_acc: 0.8698 - dense_30_acc: 0.9008 - val_loss: 2.5948 - val_dense_22_loss: 0.0607 - val_dense_24_loss: 0.3547 - val_dense_26_loss: 0.4828 - val_dense_28_loss: 0.9469 - val_dense_30_loss: 0.7496 - val_dense_22_acc: 0.9794 - val_dense_24_acc: 0.9330 - val_dense_26_acc: 0.8505 - val_dense_28_acc: 0.7732 - val_dense_30_acc: 0.8299\n",
            "Epoch 26/30\n",
            "776/776 [==============================] - 0s 585us/step - loss: 1.1739 - dense_22_loss: 0.1234 - dense_24_loss: 0.1552 - dense_26_loss: 0.2705 - dense_28_loss: 0.2817 - dense_30_loss: 0.3432 - dense_22_acc: 0.9652 - dense_24_acc: 0.9497 - dense_26_acc: 0.9214 - dense_28_acc: 0.9059 - dense_30_acc: 0.9034 - val_loss: 3.0155 - val_dense_22_loss: 0.0883 - val_dense_24_loss: 0.3696 - val_dense_26_loss: 0.5757 - val_dense_28_loss: 1.2100 - val_dense_30_loss: 0.7719 - val_dense_22_acc: 0.9794 - val_dense_24_acc: 0.9175 - val_dense_26_acc: 0.8196 - val_dense_28_acc: 0.7526 - val_dense_30_acc: 0.8196\n",
            "Epoch 27/30\n",
            "776/776 [==============================] - 0s 588us/step - loss: 1.1355 - dense_22_loss: 0.1344 - dense_24_loss: 0.1239 - dense_26_loss: 0.3216 - dense_28_loss: 0.2579 - dense_30_loss: 0.2977 - dense_22_acc: 0.9536 - dense_24_acc: 0.9575 - dense_26_acc: 0.8853 - dense_28_acc: 0.9137 - dense_30_acc: 0.8969 - val_loss: 2.7649 - val_dense_22_loss: 0.0413 - val_dense_24_loss: 0.3723 - val_dense_26_loss: 0.5377 - val_dense_28_loss: 0.9891 - val_dense_30_loss: 0.8244 - val_dense_22_acc: 0.9845 - val_dense_24_acc: 0.9536 - val_dense_26_acc: 0.8351 - val_dense_28_acc: 0.7680 - val_dense_30_acc: 0.8402\n",
            "Epoch 28/30\n",
            "776/776 [==============================] - 0s 567us/step - loss: 0.9869 - dense_22_loss: 0.1259 - dense_24_loss: 0.1267 - dense_26_loss: 0.2549 - dense_28_loss: 0.2249 - dense_30_loss: 0.2545 - dense_22_acc: 0.9626 - dense_24_acc: 0.9588 - dense_26_acc: 0.9240 - dense_28_acc: 0.9265 - dense_30_acc: 0.9046 - val_loss: 2.6493 - val_dense_22_loss: 0.0585 - val_dense_24_loss: 0.3949 - val_dense_26_loss: 0.5035 - val_dense_28_loss: 1.0152 - val_dense_30_loss: 0.6770 - val_dense_22_acc: 0.9794 - val_dense_24_acc: 0.9278 - val_dense_26_acc: 0.8763 - val_dense_28_acc: 0.7784 - val_dense_30_acc: 0.8505\n",
            "Epoch 29/30\n",
            "776/776 [==============================] - 0s 576us/step - loss: 0.9408 - dense_22_loss: 0.0928 - dense_24_loss: 0.1527 - dense_26_loss: 0.2315 - dense_28_loss: 0.2347 - dense_30_loss: 0.2291 - dense_22_acc: 0.9807 - dense_24_acc: 0.9472 - dense_26_acc: 0.9240 - dense_28_acc: 0.9201 - dense_30_acc: 0.9162 - val_loss: 2.7003 - val_dense_22_loss: 0.0962 - val_dense_24_loss: 0.3382 - val_dense_26_loss: 0.4897 - val_dense_28_loss: 1.0197 - val_dense_30_loss: 0.7565 - val_dense_22_acc: 0.9742 - val_dense_24_acc: 0.9485 - val_dense_26_acc: 0.8505 - val_dense_28_acc: 0.7887 - val_dense_30_acc: 0.8608\n",
            "Epoch 30/30\n",
            "776/776 [==============================] - 0s 580us/step - loss: 0.9047 - dense_22_loss: 0.0801 - dense_24_loss: 0.1264 - dense_26_loss: 0.2065 - dense_28_loss: 0.2620 - dense_30_loss: 0.2296 - dense_22_acc: 0.9742 - dense_24_acc: 0.9665 - dense_26_acc: 0.9304 - dense_28_acc: 0.9072 - dense_30_acc: 0.9227 - val_loss: 2.5428 - val_dense_22_loss: 0.0480 - val_dense_24_loss: 0.3212 - val_dense_26_loss: 0.5457 - val_dense_28_loss: 0.8548 - val_dense_30_loss: 0.7731 - val_dense_22_acc: 0.9794 - val_dense_24_acc: 0.9433 - val_dense_26_acc: 0.8557 - val_dense_28_acc: 0.7629 - val_dense_30_acc: 0.8351\n"
          ],
          "name": "stdout"
        }
      ]
    },
    {
      "cell_type": "markdown",
      "metadata": {
        "id": "XdVlPvaqXbpc",
        "colab_type": "text"
      },
      "source": [
        "#### Predição"
      ]
    },
    {
      "cell_type": "code",
      "metadata": {
        "id": "hQj9vz0jDwVI",
        "colab_type": "code",
        "colab": {}
      },
      "source": [
        "#Define a função para predição do captcha\n",
        "def predict(filepath):\n",
        "  img = cv.imread(filepath, cv.IMREAD_GRAYSCALE)\n",
        "  if img is not None:\n",
        "    img = img / 255.0\n",
        "  else:\n",
        "    print(\"Not detected\")\n",
        "  res = np.array(model.predict(img[np.newaxis,:,:,np.newaxis]))\n",
        "  ans = np.reshape(res,(5,36))\n",
        "  l_ind = []\n",
        "  probs = []\n",
        "  for a in ans:\n",
        "    l_ind.append(np.argmax(a))\n",
        "   \n",
        "  capt = ''\n",
        "  for l in l_ind:\n",
        "    capt += symbols[l]\n",
        "  return capt"
      ],
      "execution_count": 0,
      "outputs": []
    },
    {
      "cell_type": "code",
      "metadata": {
        "id": "qZ9FkkPJTtTU",
        "colab_type": "code",
        "colab": {
          "base_uri": "https://localhost:8080/",
          "height": 71
        },
        "outputId": "1416960c-1b10-434b-c002-3be9610a4c9a"
      },
      "source": [
        "score = model.evaluate(X_test,[y_test[0], y_test[1], y_test[2], y_test[3], y_test[4]],verbose=1)\n",
        "print(\"Test Loss and accuracy: \", score)"
      ],
      "execution_count": 41,
      "outputs": [
        {
          "output_type": "stream",
          "text": [
            "100/100 [==============================] - 0s 308us/step\n",
            "Test Loss and accuracy:  [1.1796581268310546, 0.08023392081526254, 0.12370403468608857, 0.24481821777299045, 0.3688406464457512, 0.36206133842468263, 0.98, 0.97, 0.9, 0.89, 0.89]\n"
          ],
          "name": "stdout"
        }
      ]
    },
    {
      "cell_type": "code",
      "metadata": {
        "id": "upFHOpO0UeKz",
        "colab_type": "code",
        "colab": {
          "base_uri": "https://localhost:8080/",
          "height": 119
        },
        "outputId": "8df290f5-ef51-40e8-d921-32890c8eca01"
      },
      "source": [
        "model.evaluate(X_test,[y_test[0], y_test[1], y_test[2], y_test[3], y_test[4]])\n",
        "print(predict(images_path+'/2cgyx.png'))\n",
        "print(predict(images_path+'/7cgym.png'))\n",
        "print(predict(images_path+'/65m85.png'))\n",
        "print(predict(images_path+'/gy433.png'))\n",
        "print(predict(images_path+'/wgnwp.png'))"
      ],
      "execution_count": 42,
      "outputs": [
        {
          "output_type": "stream",
          "text": [
            "100/100 [==============================] - 0s 300us/step\n",
            "2cgyx\n",
            "7cgym\n",
            "65m85\n",
            "gy433\n",
            "wgnwp\n"
          ],
          "name": "stdout"
        }
      ]
    },
    {
      "cell_type": "markdown",
      "metadata": {
        "id": "GQX9o6ldU4kc",
        "colab_type": "text"
      },
      "source": [
        "### Performance no treinamento"
      ]
    },
    {
      "cell_type": "markdown",
      "metadata": {
        "id": "mPQ10Y9EU7Rb",
        "colab_type": "text"
      },
      "source": [
        "#### Perda"
      ]
    },
    {
      "cell_type": "code",
      "metadata": {
        "id": "-ZV_u-HuOJ9T",
        "colab_type": "code",
        "colab": {
          "base_uri": "https://localhost:8080/",
          "height": 302
        },
        "outputId": "188f276c-0359-49f6-96e2-22bec5226454"
      },
      "source": [
        "fig, ax = plt.subplots()\n",
        "\n",
        "plt.plot(hist.history['loss'], color='red')\n",
        "plt.plot(hist.history['val_loss'], color='blue')\n",
        "plt.legend(['Perda', 'Valid. Perda'])\n",
        "plt.xlabel('Epoca')\n",
        "plt.title('Loss')\n",
        "plt.tight_layout()\n",
        "\n",
        "plt.suptitle('Performance do treinamento')\n",
        "\n",
        "plt.tight_layout()\n",
        "plt.subplots_adjust(top=0.85)"
      ],
      "execution_count": 89,
      "outputs": [
        {
          "output_type": "display_data",
          "data": {
            "image/png": "[encoded data removed]",
            "text/plain": [
              "<Figure size 432x288 with 1 Axes>"
            ]
          },
          "metadata": {
            "tags": []
          }
        }
      ]
    },
    {
      "cell_type": "markdown",
      "metadata": {
        "id": "02t2l_pcU_Ej",
        "colab_type": "text"
      },
      "source": [
        "#### Acurácia"
      ]
    },
    {
      "cell_type": "code",
      "metadata": {
        "id": "asA0QDW4VBbs",
        "colab_type": "code",
        "colab": {
          "base_uri": "https://localhost:8080/",
          "height": 322
        },
        "outputId": "b438c083-f111-474e-9174-1f9a5011b767"
      },
      "source": [
        "fig, ax = plt.subplots(1, 5, figsize=(17, 4))\n",
        "\n",
        "plt.sca(ax[0])\n",
        "plt.plot(hist.history['dense_22_acc'], color='red')\n",
        "plt.plot(hist.history['val_dense_22_acc'], color='blue')\n",
        "plt.legend(['Acurária', 'Valid. Acurária'])\n",
        "plt.xlabel('Epoca')\n",
        "plt.title('Acurácia - Símbolo 1')\n",
        "\n",
        "plt.sca(ax[1])\n",
        "plt.plot(hist.history['dense_24_acc'], color='red')\n",
        "plt.plot(hist.history['val_dense_24_acc'], color='blue')\n",
        "plt.legend(['Acurária', 'Valid. Acurária'])\n",
        "plt.xlabel('Epoca')\n",
        "plt.title('Acurácia - Símbolo 2')\n",
        "\n",
        "plt.sca(ax[2])\n",
        "plt.plot(hist.history['dense_26_acc'], color='red')\n",
        "plt.plot(hist.history['val_dense_26_acc'], color='blue')\n",
        "plt.legend(['Acurária', 'Valid. Acurária'])\n",
        "plt.xlabel('Epoca')\n",
        "plt.title('Acurácia - Símbolo 3')\n",
        "\n",
        "plt.sca(ax[3])\n",
        "plt.plot(hist.history['dense_28_acc'], color='red')\n",
        "plt.plot(hist.history['val_dense_28_acc'], color='blue')\n",
        "plt.legend(['Acurária', 'Valid. Acurária'])\n",
        "plt.xlabel('Epoca')\n",
        "plt.title('Acurácia - Símbolo 4')\n",
        "\n",
        "plt.sca(ax[4])\n",
        "plt.plot(hist.history['dense_30_acc'], color='red')\n",
        "plt.plot(hist.history['val_dense_30_acc'], color='blue')\n",
        "plt.legend(['Acurária', 'Valid. Acurária'])\n",
        "plt.xlabel('Epoca')\n",
        "plt.title('Acurácia - Símbolo 5')\n",
        "\n",
        "plt.suptitle('Acurácia do treinamento')\n",
        "\n",
        "plt.tight_layout()\n",
        "plt.subplots_adjust(top=0.85)"
      ],
      "execution_count": 95,
      "outputs": [
        {
          "output_type": "display_data",
          "data": {
            "image/png": "[encoded data removed]",
            "text/plain": [
              "<Figure size 1224x288 with 5 Axes>"
            ]
          },
          "metadata": {
            "tags": []
          }
        }
      ]
    },
    {
      "cell_type": "markdown",
      "metadata": {
        "id": "Wv0sUM2qYJja",
        "colab_type": "text"
      },
      "source": [
        "### Conclusão"
      ]
    },
    {
      "cell_type": "markdown",
      "metadata": {
        "id": "GSqa60kAYNMZ",
        "colab_type": "text"
      },
      "source": [
        "Esta forma de organização da rede neural convolucional, separando diferentes ramos para identificação de cada uma das letras presentes no CAPTCHA se mostrou bastante eficaz, com acurácia final sempre superior a 90%.\n",
        "\n",
        "O ponto negativo desta forma de organização da rede e da base de dados é a dificuldade de se realizar um aumento do conjunto de dados por meio do ImageDataGenerator do Keras. Esta pequena base de dados nos levou a um grande risco de sobreajuste da rede. \n",
        "\n",
        "Como objetivo para um próximo trabalho resta esta oportunidade de realizar este aumento artificial, ou não, dos dados, seja por meio de outras bibliotecas, seja por mudanças na arquitetura da rede."
      ]
    },
    {
      "cell_type": "markdown",
      "metadata": {
        "id": "j-_3cnsva7kQ",
        "colab_type": "text"
      },
      "source": [
        "### Dados e referências"
      ]
    },
    {
      "cell_type": "markdown",
      "metadata": {
        "id": "WDwwDHfda_r_",
        "colab_type": "text"
      },
      "source": [
        "Base de dados utilizada\n",
        "\n",
        "https://www.kaggle.com/fournierp/captcha-version-2-images\n",
        "\n",
        "Proposta de resolução\n",
        "\n",
        "https://www.kaggle.com/shawon10/captcha-recognition/notebook"
      ]
    }
  ]
}